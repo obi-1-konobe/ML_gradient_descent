{
 "cells": [
  {
   "cell_type": "markdown",
   "metadata": {},
   "source": [
    "# Ниязов Алдияр М.19-04 \n",
    "Задание 1 Предсказание количества комментариев к посту в FaceBook"
   ]
  },
  {
   "cell_type": "markdown",
   "metadata": {},
   "source": [
    "Произведем выгрузку данных из датасета"
   ]
  },
  {
   "cell_type": "code",
   "execution_count": 1,
   "metadata": {},
   "outputs": [],
   "source": [
    "import pandas as pd\n",
    "import numpy as np\n",
    "data = pd.read_csv('Dataset/Training/Features_Variant_1.csv')"
   ]
  },
  {
   "cell_type": "markdown",
   "metadata": {},
   "source": [
    "Посмотрим на них"
   ]
  },
  {
   "cell_type": "code",
   "execution_count": 2,
   "metadata": {},
   "outputs": [
    {
     "data": {
      "text/html": [
       "<div>\n",
       "<style scoped>\n",
       "    .dataframe tbody tr th:only-of-type {\n",
       "        vertical-align: middle;\n",
       "    }\n",
       "\n",
       "    .dataframe tbody tr th {\n",
       "        vertical-align: top;\n",
       "    }\n",
       "\n",
       "    .dataframe thead th {\n",
       "        text-align: right;\n",
       "    }\n",
       "</style>\n",
       "<table border=\"1\" class=\"dataframe\">\n",
       "  <thead>\n",
       "    <tr style=\"text-align: right;\">\n",
       "      <th></th>\n",
       "      <th>634995</th>\n",
       "      <th>0</th>\n",
       "      <th>463</th>\n",
       "      <th>1</th>\n",
       "      <th>0.0</th>\n",
       "      <th>806.0</th>\n",
       "      <th>11.291044776119403</th>\n",
       "      <th>1.0</th>\n",
       "      <th>70.49513846124168</th>\n",
       "      <th>0.0.1</th>\n",
       "      <th>...</th>\n",
       "      <th>0.11</th>\n",
       "      <th>0.12</th>\n",
       "      <th>0.13</th>\n",
       "      <th>0.14</th>\n",
       "      <th>0.15</th>\n",
       "      <th>0.16</th>\n",
       "      <th>0.17</th>\n",
       "      <th>0.18</th>\n",
       "      <th>1.2</th>\n",
       "      <th>0.19</th>\n",
       "    </tr>\n",
       "  </thead>\n",
       "  <tbody>\n",
       "    <tr>\n",
       "      <td>0</td>\n",
       "      <td>634995</td>\n",
       "      <td>0</td>\n",
       "      <td>463</td>\n",
       "      <td>1</td>\n",
       "      <td>0.0</td>\n",
       "      <td>806.0</td>\n",
       "      <td>11.291045</td>\n",
       "      <td>1.0</td>\n",
       "      <td>70.495138</td>\n",
       "      <td>0.0</td>\n",
       "      <td>...</td>\n",
       "      <td>0</td>\n",
       "      <td>0</td>\n",
       "      <td>0</td>\n",
       "      <td>0</td>\n",
       "      <td>0</td>\n",
       "      <td>0</td>\n",
       "      <td>0</td>\n",
       "      <td>1</td>\n",
       "      <td>0</td>\n",
       "      <td>0</td>\n",
       "    </tr>\n",
       "    <tr>\n",
       "      <td>1</td>\n",
       "      <td>634995</td>\n",
       "      <td>0</td>\n",
       "      <td>463</td>\n",
       "      <td>1</td>\n",
       "      <td>0.0</td>\n",
       "      <td>806.0</td>\n",
       "      <td>11.291045</td>\n",
       "      <td>1.0</td>\n",
       "      <td>70.495138</td>\n",
       "      <td>0.0</td>\n",
       "      <td>...</td>\n",
       "      <td>1</td>\n",
       "      <td>0</td>\n",
       "      <td>0</td>\n",
       "      <td>0</td>\n",
       "      <td>0</td>\n",
       "      <td>0</td>\n",
       "      <td>0</td>\n",
       "      <td>0</td>\n",
       "      <td>1</td>\n",
       "      <td>0</td>\n",
       "    </tr>\n",
       "    <tr>\n",
       "      <td>2</td>\n",
       "      <td>634995</td>\n",
       "      <td>0</td>\n",
       "      <td>463</td>\n",
       "      <td>1</td>\n",
       "      <td>0.0</td>\n",
       "      <td>806.0</td>\n",
       "      <td>11.291045</td>\n",
       "      <td>1.0</td>\n",
       "      <td>70.495138</td>\n",
       "      <td>0.0</td>\n",
       "      <td>...</td>\n",
       "      <td>1</td>\n",
       "      <td>0</td>\n",
       "      <td>0</td>\n",
       "      <td>1</td>\n",
       "      <td>0</td>\n",
       "      <td>0</td>\n",
       "      <td>0</td>\n",
       "      <td>0</td>\n",
       "      <td>0</td>\n",
       "      <td>0</td>\n",
       "    </tr>\n",
       "    <tr>\n",
       "      <td>3</td>\n",
       "      <td>634995</td>\n",
       "      <td>0</td>\n",
       "      <td>463</td>\n",
       "      <td>1</td>\n",
       "      <td>0.0</td>\n",
       "      <td>806.0</td>\n",
       "      <td>11.291045</td>\n",
       "      <td>1.0</td>\n",
       "      <td>70.495138</td>\n",
       "      <td>0.0</td>\n",
       "      <td>...</td>\n",
       "      <td>0</td>\n",
       "      <td>0</td>\n",
       "      <td>0</td>\n",
       "      <td>0</td>\n",
       "      <td>0</td>\n",
       "      <td>1</td>\n",
       "      <td>0</td>\n",
       "      <td>0</td>\n",
       "      <td>0</td>\n",
       "      <td>0</td>\n",
       "    </tr>\n",
       "    <tr>\n",
       "      <td>4</td>\n",
       "      <td>634995</td>\n",
       "      <td>0</td>\n",
       "      <td>463</td>\n",
       "      <td>1</td>\n",
       "      <td>0.0</td>\n",
       "      <td>806.0</td>\n",
       "      <td>11.291045</td>\n",
       "      <td>1.0</td>\n",
       "      <td>70.495138</td>\n",
       "      <td>0.0</td>\n",
       "      <td>...</td>\n",
       "      <td>0</td>\n",
       "      <td>0</td>\n",
       "      <td>0</td>\n",
       "      <td>0</td>\n",
       "      <td>0</td>\n",
       "      <td>0</td>\n",
       "      <td>0</td>\n",
       "      <td>1</td>\n",
       "      <td>0</td>\n",
       "      <td>0</td>\n",
       "    </tr>\n",
       "    <tr>\n",
       "      <td>...</td>\n",
       "      <td>...</td>\n",
       "      <td>...</td>\n",
       "      <td>...</td>\n",
       "      <td>...</td>\n",
       "      <td>...</td>\n",
       "      <td>...</td>\n",
       "      <td>...</td>\n",
       "      <td>...</td>\n",
       "      <td>...</td>\n",
       "      <td>...</td>\n",
       "      <td>...</td>\n",
       "      <td>...</td>\n",
       "      <td>...</td>\n",
       "      <td>...</td>\n",
       "      <td>...</td>\n",
       "      <td>...</td>\n",
       "      <td>...</td>\n",
       "      <td>...</td>\n",
       "      <td>...</td>\n",
       "      <td>...</td>\n",
       "      <td>...</td>\n",
       "    </tr>\n",
       "    <tr>\n",
       "      <td>40943</td>\n",
       "      <td>7170111</td>\n",
       "      <td>70</td>\n",
       "      <td>497000</td>\n",
       "      <td>9</td>\n",
       "      <td>0.0</td>\n",
       "      <td>1881.0</td>\n",
       "      <td>497.200000</td>\n",
       "      <td>269.0</td>\n",
       "      <td>502.318385</td>\n",
       "      <td>0.0</td>\n",
       "      <td>...</td>\n",
       "      <td>0</td>\n",
       "      <td>0</td>\n",
       "      <td>0</td>\n",
       "      <td>0</td>\n",
       "      <td>0</td>\n",
       "      <td>0</td>\n",
       "      <td>0</td>\n",
       "      <td>1</td>\n",
       "      <td>0</td>\n",
       "      <td>1</td>\n",
       "    </tr>\n",
       "    <tr>\n",
       "      <td>40944</td>\n",
       "      <td>7170111</td>\n",
       "      <td>70</td>\n",
       "      <td>497000</td>\n",
       "      <td>9</td>\n",
       "      <td>0.0</td>\n",
       "      <td>1881.0</td>\n",
       "      <td>497.200000</td>\n",
       "      <td>269.0</td>\n",
       "      <td>502.318385</td>\n",
       "      <td>0.0</td>\n",
       "      <td>...</td>\n",
       "      <td>0</td>\n",
       "      <td>0</td>\n",
       "      <td>0</td>\n",
       "      <td>0</td>\n",
       "      <td>0</td>\n",
       "      <td>0</td>\n",
       "      <td>0</td>\n",
       "      <td>1</td>\n",
       "      <td>0</td>\n",
       "      <td>2</td>\n",
       "    </tr>\n",
       "    <tr>\n",
       "      <td>40945</td>\n",
       "      <td>7170111</td>\n",
       "      <td>70</td>\n",
       "      <td>497000</td>\n",
       "      <td>9</td>\n",
       "      <td>0.0</td>\n",
       "      <td>1881.0</td>\n",
       "      <td>497.200000</td>\n",
       "      <td>269.0</td>\n",
       "      <td>502.318385</td>\n",
       "      <td>0.0</td>\n",
       "      <td>...</td>\n",
       "      <td>0</td>\n",
       "      <td>0</td>\n",
       "      <td>0</td>\n",
       "      <td>0</td>\n",
       "      <td>0</td>\n",
       "      <td>0</td>\n",
       "      <td>1</td>\n",
       "      <td>0</td>\n",
       "      <td>0</td>\n",
       "      <td>72</td>\n",
       "    </tr>\n",
       "    <tr>\n",
       "      <td>40946</td>\n",
       "      <td>7170111</td>\n",
       "      <td>70</td>\n",
       "      <td>497000</td>\n",
       "      <td>9</td>\n",
       "      <td>0.0</td>\n",
       "      <td>1881.0</td>\n",
       "      <td>497.200000</td>\n",
       "      <td>269.0</td>\n",
       "      <td>502.318385</td>\n",
       "      <td>0.0</td>\n",
       "      <td>...</td>\n",
       "      <td>0</td>\n",
       "      <td>0</td>\n",
       "      <td>0</td>\n",
       "      <td>0</td>\n",
       "      <td>0</td>\n",
       "      <td>0</td>\n",
       "      <td>0</td>\n",
       "      <td>1</td>\n",
       "      <td>0</td>\n",
       "      <td>28</td>\n",
       "    </tr>\n",
       "    <tr>\n",
       "      <td>40947</td>\n",
       "      <td>7170111</td>\n",
       "      <td>70</td>\n",
       "      <td>497000</td>\n",
       "      <td>9</td>\n",
       "      <td>0.0</td>\n",
       "      <td>1881.0</td>\n",
       "      <td>497.200000</td>\n",
       "      <td>269.0</td>\n",
       "      <td>502.318385</td>\n",
       "      <td>0.0</td>\n",
       "      <td>...</td>\n",
       "      <td>0</td>\n",
       "      <td>0</td>\n",
       "      <td>0</td>\n",
       "      <td>0</td>\n",
       "      <td>0</td>\n",
       "      <td>0</td>\n",
       "      <td>0</td>\n",
       "      <td>1</td>\n",
       "      <td>0</td>\n",
       "      <td>11</td>\n",
       "    </tr>\n",
       "  </tbody>\n",
       "</table>\n",
       "<p>40948 rows × 54 columns</p>\n",
       "</div>"
      ],
      "text/plain": [
       "        634995   0     463  1  0.0   806.0  11.291044776119403    1.0  \\\n",
       "0       634995   0     463  1  0.0   806.0           11.291045    1.0   \n",
       "1       634995   0     463  1  0.0   806.0           11.291045    1.0   \n",
       "2       634995   0     463  1  0.0   806.0           11.291045    1.0   \n",
       "3       634995   0     463  1  0.0   806.0           11.291045    1.0   \n",
       "4       634995   0     463  1  0.0   806.0           11.291045    1.0   \n",
       "...        ...  ..     ... ..  ...     ...                 ...    ...   \n",
       "40943  7170111  70  497000  9  0.0  1881.0          497.200000  269.0   \n",
       "40944  7170111  70  497000  9  0.0  1881.0          497.200000  269.0   \n",
       "40945  7170111  70  497000  9  0.0  1881.0          497.200000  269.0   \n",
       "40946  7170111  70  497000  9  0.0  1881.0          497.200000  269.0   \n",
       "40947  7170111  70  497000  9  0.0  1881.0          497.200000  269.0   \n",
       "\n",
       "       70.49513846124168  0.0.1  ...  0.11  0.12  0.13  0.14  0.15  0.16  \\\n",
       "0              70.495138    0.0  ...     0     0     0     0     0     0   \n",
       "1              70.495138    0.0  ...     1     0     0     0     0     0   \n",
       "2              70.495138    0.0  ...     1     0     0     1     0     0   \n",
       "3              70.495138    0.0  ...     0     0     0     0     0     1   \n",
       "4              70.495138    0.0  ...     0     0     0     0     0     0   \n",
       "...                  ...    ...  ...   ...   ...   ...   ...   ...   ...   \n",
       "40943         502.318385    0.0  ...     0     0     0     0     0     0   \n",
       "40944         502.318385    0.0  ...     0     0     0     0     0     0   \n",
       "40945         502.318385    0.0  ...     0     0     0     0     0     0   \n",
       "40946         502.318385    0.0  ...     0     0     0     0     0     0   \n",
       "40947         502.318385    0.0  ...     0     0     0     0     0     0   \n",
       "\n",
       "       0.17  0.18  1.2  0.19  \n",
       "0         0     1    0     0  \n",
       "1         0     0    1     0  \n",
       "2         0     0    0     0  \n",
       "3         0     0    0     0  \n",
       "4         0     1    0     0  \n",
       "...     ...   ...  ...   ...  \n",
       "40943     0     1    0     1  \n",
       "40944     0     1    0     2  \n",
       "40945     1     0    0    72  \n",
       "40946     0     1    0    28  \n",
       "40947     0     1    0    11  \n",
       "\n",
       "[40948 rows x 54 columns]"
      ]
     },
     "execution_count": 2,
     "metadata": {},
     "output_type": "execute_result"
    }
   ],
   "source": [
    "data"
   ]
  },
  {
   "cell_type": "markdown",
   "metadata": {},
   "source": [
    "Так как данные в датасете отсортированы и это негативно скажется на обучении модели, то перемешаем их"
   ]
  },
  {
   "cell_type": "code",
   "execution_count": 3,
   "metadata": {
    "scrolled": true
   },
   "outputs": [
    {
     "data": {
      "text/html": [
       "<div>\n",
       "<style scoped>\n",
       "    .dataframe tbody tr th:only-of-type {\n",
       "        vertical-align: middle;\n",
       "    }\n",
       "\n",
       "    .dataframe tbody tr th {\n",
       "        vertical-align: top;\n",
       "    }\n",
       "\n",
       "    .dataframe thead th {\n",
       "        text-align: right;\n",
       "    }\n",
       "</style>\n",
       "<table border=\"1\" class=\"dataframe\">\n",
       "  <thead>\n",
       "    <tr style=\"text-align: right;\">\n",
       "      <th></th>\n",
       "      <th>634995</th>\n",
       "      <th>0</th>\n",
       "      <th>463</th>\n",
       "      <th>1</th>\n",
       "      <th>0.0</th>\n",
       "      <th>806.0</th>\n",
       "      <th>11.291044776119403</th>\n",
       "      <th>1.0</th>\n",
       "      <th>70.49513846124168</th>\n",
       "      <th>0.0.1</th>\n",
       "      <th>...</th>\n",
       "      <th>0.11</th>\n",
       "      <th>0.12</th>\n",
       "      <th>0.13</th>\n",
       "      <th>0.14</th>\n",
       "      <th>0.15</th>\n",
       "      <th>0.16</th>\n",
       "      <th>0.17</th>\n",
       "      <th>0.18</th>\n",
       "      <th>1.2</th>\n",
       "      <th>0.19</th>\n",
       "    </tr>\n",
       "  </thead>\n",
       "  <tbody>\n",
       "    <tr>\n",
       "      <td>30052</td>\n",
       "      <td>1959278</td>\n",
       "      <td>0</td>\n",
       "      <td>12641</td>\n",
       "      <td>18</td>\n",
       "      <td>0.0</td>\n",
       "      <td>513.0</td>\n",
       "      <td>22.871111</td>\n",
       "      <td>13.0</td>\n",
       "      <td>46.630141</td>\n",
       "      <td>0.0</td>\n",
       "      <td>...</td>\n",
       "      <td>0</td>\n",
       "      <td>0</td>\n",
       "      <td>1</td>\n",
       "      <td>0</td>\n",
       "      <td>0</td>\n",
       "      <td>0</td>\n",
       "      <td>0</td>\n",
       "      <td>0</td>\n",
       "      <td>0</td>\n",
       "      <td>0</td>\n",
       "    </tr>\n",
       "    <tr>\n",
       "      <td>34791</td>\n",
       "      <td>35508</td>\n",
       "      <td>0</td>\n",
       "      <td>795</td>\n",
       "      <td>38</td>\n",
       "      <td>0.0</td>\n",
       "      <td>8.0</td>\n",
       "      <td>1.666667</td>\n",
       "      <td>1.0</td>\n",
       "      <td>2.011662</td>\n",
       "      <td>0.0</td>\n",
       "      <td>...</td>\n",
       "      <td>1</td>\n",
       "      <td>0</td>\n",
       "      <td>1</td>\n",
       "      <td>0</td>\n",
       "      <td>0</td>\n",
       "      <td>0</td>\n",
       "      <td>0</td>\n",
       "      <td>0</td>\n",
       "      <td>0</td>\n",
       "      <td>0</td>\n",
       "    </tr>\n",
       "    <tr>\n",
       "      <td>10767</td>\n",
       "      <td>441554</td>\n",
       "      <td>0</td>\n",
       "      <td>60660</td>\n",
       "      <td>4</td>\n",
       "      <td>0.0</td>\n",
       "      <td>2328.0</td>\n",
       "      <td>71.828829</td>\n",
       "      <td>42.0</td>\n",
       "      <td>165.413643</td>\n",
       "      <td>0.0</td>\n",
       "      <td>...</td>\n",
       "      <td>0</td>\n",
       "      <td>0</td>\n",
       "      <td>0</td>\n",
       "      <td>0</td>\n",
       "      <td>0</td>\n",
       "      <td>1</td>\n",
       "      <td>0</td>\n",
       "      <td>0</td>\n",
       "      <td>0</td>\n",
       "      <td>0</td>\n",
       "    </tr>\n",
       "    <tr>\n",
       "      <td>21059</td>\n",
       "      <td>220749</td>\n",
       "      <td>0</td>\n",
       "      <td>12792</td>\n",
       "      <td>18</td>\n",
       "      <td>0.0</td>\n",
       "      <td>711.0</td>\n",
       "      <td>39.828571</td>\n",
       "      <td>22.0</td>\n",
       "      <td>67.145678</td>\n",
       "      <td>0.0</td>\n",
       "      <td>...</td>\n",
       "      <td>1</td>\n",
       "      <td>0</td>\n",
       "      <td>0</td>\n",
       "      <td>0</td>\n",
       "      <td>0</td>\n",
       "      <td>0</td>\n",
       "      <td>0</td>\n",
       "      <td>0</td>\n",
       "      <td>1</td>\n",
       "      <td>9</td>\n",
       "    </tr>\n",
       "    <tr>\n",
       "      <td>39642</td>\n",
       "      <td>1947129</td>\n",
       "      <td>7</td>\n",
       "      <td>242852</td>\n",
       "      <td>18</td>\n",
       "      <td>1.0</td>\n",
       "      <td>632.0</td>\n",
       "      <td>139.666667</td>\n",
       "      <td>109.0</td>\n",
       "      <td>114.033931</td>\n",
       "      <td>0.0</td>\n",
       "      <td>...</td>\n",
       "      <td>1</td>\n",
       "      <td>0</td>\n",
       "      <td>1</td>\n",
       "      <td>0</td>\n",
       "      <td>0</td>\n",
       "      <td>0</td>\n",
       "      <td>0</td>\n",
       "      <td>0</td>\n",
       "      <td>0</td>\n",
       "      <td>5</td>\n",
       "    </tr>\n",
       "  </tbody>\n",
       "</table>\n",
       "<p>5 rows × 54 columns</p>\n",
       "</div>"
      ],
      "text/plain": [
       "        634995  0     463   1  0.0   806.0  11.291044776119403    1.0  \\\n",
       "30052  1959278  0   12641  18  0.0   513.0           22.871111   13.0   \n",
       "34791    35508  0     795  38  0.0     8.0            1.666667    1.0   \n",
       "10767   441554  0   60660   4  0.0  2328.0           71.828829   42.0   \n",
       "21059   220749  0   12792  18  0.0   711.0           39.828571   22.0   \n",
       "39642  1947129  7  242852  18  1.0   632.0          139.666667  109.0   \n",
       "\n",
       "       70.49513846124168  0.0.1  ...  0.11  0.12  0.13  0.14  0.15  0.16  \\\n",
       "30052          46.630141    0.0  ...     0     0     1     0     0     0   \n",
       "34791           2.011662    0.0  ...     1     0     1     0     0     0   \n",
       "10767         165.413643    0.0  ...     0     0     0     0     0     1   \n",
       "21059          67.145678    0.0  ...     1     0     0     0     0     0   \n",
       "39642         114.033931    0.0  ...     1     0     1     0     0     0   \n",
       "\n",
       "       0.17  0.18  1.2  0.19  \n",
       "30052     0     0    0     0  \n",
       "34791     0     0    0     0  \n",
       "10767     0     0    0     0  \n",
       "21059     0     0    1     9  \n",
       "39642     0     0    0     5  \n",
       "\n",
       "[5 rows x 54 columns]"
      ]
     },
     "execution_count": 3,
     "metadata": {},
     "output_type": "execute_result"
    }
   ],
   "source": [
    "data = data.sample(frac=1)\n",
    "data.head()"
   ]
  },
  {
   "cell_type": "markdown",
   "metadata": {},
   "source": [
    "Отделим значения целевого признака в отдельный массив y"
   ]
  },
  {
   "cell_type": "code",
   "execution_count": 4,
   "metadata": {},
   "outputs": [],
   "source": [
    "y = data['0.19'].values"
   ]
  },
  {
   "cell_type": "markdown",
   "metadata": {},
   "source": [
    "Оставшиеся признаки сгруппируем в матрицу Х"
   ]
  },
  {
   "cell_type": "code",
   "execution_count": 5,
   "metadata": {},
   "outputs": [],
   "source": [
    "data = data.values"
   ]
  },
  {
   "cell_type": "code",
   "execution_count": 6,
   "metadata": {},
   "outputs": [],
   "source": [
    "X = np.delete(data, 53, axis=1)"
   ]
  },
  {
   "cell_type": "markdown",
   "metadata": {},
   "source": [
    "Вычислим средние значения признаков (means) и стандартное отклонение (stds) по каждому столбцу матрицы Х. Сгруппируем значения в соответствующие массивы."
   ]
  },
  {
   "cell_type": "code",
   "execution_count": 7,
   "metadata": {},
   "outputs": [],
   "source": [
    "means, stds = [np.mean(X, axis=0), np.std(X, axis=0)]"
   ]
  },
  {
   "cell_type": "markdown",
   "metadata": {},
   "source": [
    "Если у какого-нибудь признака стандартное отклонение равно 0, значит этот признак является константой и не имеет никакого влияния на целевой признак. Определим такой признак в Х и удалим его из выборки:"
   ]
  },
  {
   "cell_type": "code",
   "execution_count": 8,
   "metadata": {},
   "outputs": [
    {
     "data": {
      "text/plain": [
       "(array([37]),)"
      ]
     },
     "execution_count": 8,
     "metadata": {},
     "output_type": "execute_result"
    }
   ],
   "source": [
    "np.where(stds==0)"
   ]
  },
  {
   "cell_type": "code",
   "execution_count": 9,
   "metadata": {},
   "outputs": [],
   "source": [
    "X = np.delete(X, 37, axis=1)"
   ]
  },
  {
   "cell_type": "markdown",
   "metadata": {},
   "source": [
    "Пересчитаем means и stds"
   ]
  },
  {
   "cell_type": "code",
   "execution_count": 10,
   "metadata": {},
   "outputs": [],
   "source": [
    "means, stds = [np.mean(X, axis=0), np.std(X, axis=0)]"
   ]
  },
  {
   "cell_type": "markdown",
   "metadata": {},
   "source": [
    "Произведем нормировку признаков. От каждого значения матрицы Х отнимем среднее значение по столбцу, а результат поделим на стандартное отклонение этого столбца."
   ]
  },
  {
   "cell_type": "code",
   "execution_count": 11,
   "metadata": {},
   "outputs": [],
   "source": [
    "def normalize_features(X):\n",
    "    for i in range(0, X.shape[0]):\n",
    "        for j in range(0, X.shape[1]):\n",
    "            X[i][j] = (X[i][j] - means[j])/stds[j]\n",
    "    return X"
   ]
  },
  {
   "cell_type": "code",
   "execution_count": 12,
   "metadata": {},
   "outputs": [],
   "source": [
    "X = normalize_features(X)"
   ]
  },
  {
   "cell_type": "markdown",
   "metadata": {},
   "source": [
    "Добавим к матрице X столбец из единиц, чтобы не обрабатывать отдельно коэффициент $w_0$ линейной регрессии"
   ]
  },
  {
   "cell_type": "code",
   "execution_count": 13,
   "metadata": {},
   "outputs": [],
   "source": [
    "X = np.hstack((X, np.ones((len(X), 1))))\n"
   ]
  },
  {
   "cell_type": "markdown",
   "metadata": {},
   "source": [
    "Опишем фунциb вычисления метрик качества. Данные показатели характеризует качество применяемой модели"
   ]
  },
  {
   "cell_type": "code",
   "execution_count": 14,
   "metadata": {},
   "outputs": [],
   "source": [
    "def mserror(y, y_pred):\n",
    "    return 1/len(y)*sum((y - y_pred) ** 2)"
   ]
  },
  {
   "cell_type": "code",
   "execution_count": 15,
   "metadata": {},
   "outputs": [],
   "source": [
    "def rmserror(y, y_pred):\n",
    "    return np.sqrt(mserror(y, y_pred))"
   ]
  },
  {
   "cell_type": "code",
   "execution_count": 16,
   "metadata": {},
   "outputs": [],
   "source": [
    "def determination(X, y, w):\n",
    "    return 1 - (sum((y - np.dot(X, w))**2) / sum((y - np.mean(y, axis=0))**2))"
   ]
  },
  {
   "cell_type": "markdown",
   "metadata": {},
   "source": [
    "Опишем функцию прогноза для линейной модели, принимающую матрицу Х и вектор весов признаков w, возвращающую вектор прогнозов"
   ]
  },
  {
   "cell_type": "code",
   "execution_count": 17,
   "metadata": {},
   "outputs": [],
   "source": [
    "def linear_prediction(X, w):\n",
    "    return np.dot(X, w)\n"
   ]
  },
  {
   "cell_type": "markdown",
   "metadata": {},
   "source": [
    "Градиент функционала ошибки вычисляется по формуле:"
   ]
  },
  {
   "cell_type": "code",
   "execution_count": 21,
   "metadata": {},
   "outputs": [],
   "source": [
    "def gradient_step(X, y, w):\n",
    "    return  np.dot(2/len(y) * X.T, np.add(linear_prediction(X, w), - y))\n",
    "    "
   ]
  },
  {
   "cell_type": "markdown",
   "metadata": {},
   "source": [
    "Градиентный спуск будет производиться в цикле по формуле:\n",
    "    $$\\Large w^t = w^{t-1} - lr*gradient step $$ \n",
    "    lr - коэффициент шага (learning rate)"
   ]
  },
  {
   "cell_type": "code",
   "execution_count": 22,
   "metadata": {},
   "outputs": [],
   "source": [
    "def gradient_descent(X, y, w_init, lr, epoch_num):\n",
    "    weight_dist = np.inf\n",
    "    w = w_init\n",
    "    iter_num = 0\n",
    "    # Склеим матрицу признаков со столбцом из значений целевого признака\n",
    "    data = np.concatenate((X, y.reshape(len(y), 1)), axis=1)\n",
    "    # Основной цикл\n",
    "    for i in range(epoch_num):\n",
    "        # Перемешаем данные\n",
    "        np.random.shuffle(data)\n",
    "        # Разделим таблицу признаков и целевой признак\n",
    "        X = np.delete(data, 53, axis=1)\n",
    "        y = np.delete(data, range(53), axis=1).reshape(1, len(y))[0]\n",
    "        batch_idx = 0\n",
    "        # Пройдемся по датасету batch-ами\n",
    "        for batch in np.array_split(X, 32):\n",
    "            y_batch = y[batch_idx * len(batch):]\n",
    "            batch_idx += 1\n",
    "            # вычисляем градиент\n",
    "            grad = gradient_step(batch, y_batch, w)\n",
    "            # обновляем параметры\n",
    "            w = w - lr * grad\n",
    "        \n",
    "    return w"
   ]
  },
  {
   "cell_type": "markdown",
   "metadata": {},
   "source": [
    "Для кросс-валидации разделим датасет на 5 частей (примерно по 8190 строк в каждой)"
   ]
  },
  {
   "cell_type": "code",
   "execution_count": 23,
   "metadata": {},
   "outputs": [],
   "source": [
    "data_split = np.array_split(X, 5)"
   ]
  },
  {
   "cell_type": "code",
   "execution_count": 24,
   "metadata": {},
   "outputs": [],
   "source": [
    "target_split = np.array_split(y, 5)"
   ]
  },
  {
   "cell_type": "markdown",
   "metadata": {},
   "source": [
    "ПЕРВЫЙ ЭТАП ВАЛИДАЦИИ"
   ]
  },
  {
   "cell_type": "code",
   "execution_count": 25,
   "metadata": {},
   "outputs": [],
   "source": [
    "data_train = np.concatenate((data_split[0], data_split[1], data_split[2], data_split[3]), axis=0)"
   ]
  },
  {
   "cell_type": "code",
   "execution_count": 26,
   "metadata": {},
   "outputs": [],
   "source": [
    "data_test = data_split[4]"
   ]
  },
  {
   "cell_type": "code",
   "execution_count": 27,
   "metadata": {},
   "outputs": [],
   "source": [
    "target_train = np.concatenate((target_split[0], target_split[1], target_split[2], target_split[3]))"
   ]
  },
  {
   "cell_type": "code",
   "execution_count": 28,
   "metadata": {},
   "outputs": [],
   "source": [
    "target_test = target_split[4]"
   ]
  },
  {
   "cell_type": "markdown",
   "metadata": {},
   "source": [
    "Обучим нашу модель"
   ]
  },
  {
   "cell_type": "code",
   "execution_count": 29,
   "metadata": {
    "scrolled": true
   },
   "outputs": [],
   "source": [
    "grad_desc_weights = gradient_descent(data_train, target_train, np.zeros(X.shape[1]), lr=0.01, epoch_num=1000)"
   ]
  },
  {
   "cell_type": "markdown",
   "metadata": {},
   "source": [
    "В результате обучения получим следующие показатели значимостей признаков:"
   ]
  },
  {
   "cell_type": "code",
   "execution_count": 30,
   "metadata": {},
   "outputs": [
    {
     "data": {
      "text/plain": [
       "array([ 6.76798318e-01, -3.05714275e-01, -2.17217538e+00, -4.51719977e-02,\n",
       "        5.41797105e+00,  3.11622690e+00,  8.13129908e+00,  7.58633953e+00,\n",
       "        1.23583512e+01,  8.33710775e-01, -3.71503418e+00,  3.24520192e+00,\n",
       "        2.54079274e+00,  2.64023851e+00, -6.41692919e-01,  2.90056882e+00,\n",
       "        3.81820376e+00,  2.43750567e+00, -4.90798851e+00, -5.18361630e+00,\n",
       "       -4.30901773e+00, -1.32471558e+01, -6.01150880e+00, -6.11190394e+00,\n",
       "        2.35548454e-02,  2.59774521e+00,  6.40645011e-02,  9.68175430e-02,\n",
       "       -3.63926221e+00,  7.11548538e+00,  1.16729206e+01,  3.67296852e+00,\n",
       "       -1.01124949e+01,  6.78529922e+00, -3.95787468e+00,  6.21446493e-02,\n",
       "        2.14384230e+00,  8.95475965e-01, -1.72667334e-01, -1.84047329e-01,\n",
       "       -1.36880744e-01,  3.67534521e-01,  1.30158972e-01,  1.84416652e-01,\n",
       "       -2.17617220e-01, -1.23109087e-01,  2.68166467e-01, -6.27157735e-03,\n",
       "        2.97516768e-01, -1.23054844e-01, -3.26831369e-02, -2.73169471e-01,\n",
       "        7.27955343e+00])"
      ]
     },
     "execution_count": 30,
     "metadata": {},
     "output_type": "execute_result"
    }
   ],
   "source": [
    "grad_desc_weights"
   ]
  },
  {
   "cell_type": "markdown",
   "metadata": {},
   "source": [
    "Измерим метрики на тренировочных данных"
   ]
  },
  {
   "cell_type": "code",
   "execution_count": 31,
   "metadata": {},
   "outputs": [
    {
     "name": "stdout",
     "output_type": "stream",
     "text": [
      "RMSE_train_1 = 29.00185566585938\n"
     ]
    }
   ],
   "source": [
    "RMSE_train_1 = rmserror(target_train, np.dot(data_train, grad_desc_weights))\n",
    "print(f'RMSE_train_1 = {RMSE_train_1}')"
   ]
  },
  {
   "cell_type": "code",
   "execution_count": 32,
   "metadata": {},
   "outputs": [
    {
     "name": "stdout",
     "output_type": "stream",
     "text": [
      "R2_train_1 = 0.32601222811184105\n"
     ]
    }
   ],
   "source": [
    "R2_train_1 = determination(data_train, target_train, grad_desc_weights)\n",
    "print(f'R2_train_1 = {R2_train_1}')"
   ]
  },
  {
   "cell_type": "markdown",
   "metadata": {},
   "source": [
    "Измерим метрики на тестовых данных"
   ]
  },
  {
   "cell_type": "code",
   "execution_count": 33,
   "metadata": {},
   "outputs": [
    {
     "name": "stdout",
     "output_type": "stream",
     "text": [
      "RMSE_test_1 = 30.33482238041052\n"
     ]
    }
   ],
   "source": [
    "RMSE_test_1 = rmserror(target_test, np.dot(data_test, grad_desc_weights))\n",
    "print(f'RMSE_test_1 = {RMSE_test_1}')"
   ]
  },
  {
   "cell_type": "code",
   "execution_count": 34,
   "metadata": {},
   "outputs": [
    {
     "name": "stdout",
     "output_type": "stream",
     "text": [
      "R2_test_1 = 0.2961881593982325\n"
     ]
    }
   ],
   "source": [
    "R2_test_1 = determination(data_test, target_test, grad_desc_weights)\n",
    "print(f'R2_test_1 = {R2_test_1}')"
   ]
  },
  {
   "cell_type": "markdown",
   "metadata": {},
   "source": [
    "ВТОРОЙ ЭТАП ВАЛИДАЦИИ"
   ]
  },
  {
   "cell_type": "code",
   "execution_count": 35,
   "metadata": {},
   "outputs": [],
   "source": [
    "data_train = np.concatenate((data_split[0], data_split[1], data_split[2], data_split[4]), axis=0)"
   ]
  },
  {
   "cell_type": "code",
   "execution_count": 36,
   "metadata": {},
   "outputs": [],
   "source": [
    "data_test = data_split[3]"
   ]
  },
  {
   "cell_type": "code",
   "execution_count": 37,
   "metadata": {},
   "outputs": [],
   "source": [
    "target_train = np.concatenate((target_split[0], target_split[1], target_split[2], target_split[4]))"
   ]
  },
  {
   "cell_type": "code",
   "execution_count": 38,
   "metadata": {},
   "outputs": [],
   "source": [
    "target_test = target_split[3]"
   ]
  },
  {
   "cell_type": "markdown",
   "metadata": {},
   "source": [
    "Обучим нашу модель"
   ]
  },
  {
   "cell_type": "code",
   "execution_count": 39,
   "metadata": {
    "scrolled": true
   },
   "outputs": [],
   "source": [
    "grad_desc_weights = gradient_descent(data_train, target_train, np.zeros(X.shape[1]), lr=0.01, epoch_num=1000)"
   ]
  },
  {
   "cell_type": "markdown",
   "metadata": {},
   "source": [
    "В результате обучения получим следующие показатели значимостей признаков:"
   ]
  },
  {
   "cell_type": "code",
   "execution_count": 40,
   "metadata": {},
   "outputs": [
    {
     "data": {
      "text/plain": [
       "array([ -1.65447933,  -0.5973298 ,  -1.28117102,  -0.22191112,\n",
       "        -1.04367589,   6.36570488,  10.33771921,  11.33638952,\n",
       "        12.63199061,  -1.90275781,  -0.71896103,   5.28630336,\n",
       "         3.0201966 ,  -3.26344146,   0.80487802,   2.21081879,\n",
       "         5.11188162,   1.68998624,  -5.30275206,   0.29748199,\n",
       "        -7.26543775, -12.09649475, -12.7999772 ,  -7.67813302,\n",
       "        -0.73149727,   1.38422926,   2.06769294,  -0.39897442,\n",
       "        -0.30453899,   7.39984498,  11.73005456,   3.66585574,\n",
       "       -10.72814516,   6.83744169,  -3.90477139,  -0.11679937,\n",
       "         6.37503827,   0.79556468,  -0.13964702,  -0.24242575,\n",
       "        -0.18529057,   0.28935818,   0.10514597,   0.26716462,\n",
       "        -0.11599818,  -0.19772866,   0.17686939,  -0.01536088,\n",
       "         0.39388171,  -0.03739131,  -0.09753326,  -0.22223034,\n",
       "         7.35511236])"
      ]
     },
     "execution_count": 40,
     "metadata": {},
     "output_type": "execute_result"
    }
   ],
   "source": [
    "grad_desc_weights"
   ]
  },
  {
   "cell_type": "markdown",
   "metadata": {},
   "source": [
    "Измерим метрики на тренировочных данных"
   ]
  },
  {
   "cell_type": "code",
   "execution_count": 41,
   "metadata": {},
   "outputs": [
    {
     "name": "stdout",
     "output_type": "stream",
     "text": [
      "RMSE_train_2 = 29.863981894616245\n"
     ]
    }
   ],
   "source": [
    "RMSE_train_2 = rmserror(target_train, np.dot(data_train, grad_desc_weights))\n",
    "print(f'RMSE_train_2 = {RMSE_train_2}')"
   ]
  },
  {
   "cell_type": "code",
   "execution_count": 42,
   "metadata": {},
   "outputs": [
    {
     "name": "stdout",
     "output_type": "stream",
     "text": [
      "R2_train_2 = 0.317134679338526\n"
     ]
    }
   ],
   "source": [
    "R2_train_2 = determination(data_train, target_train, grad_desc_weights)\n",
    "print(f'R2_train_2 = {R2_train_2}')"
   ]
  },
  {
   "cell_type": "markdown",
   "metadata": {},
   "source": [
    "Измерим метрики на тестовых данных"
   ]
  },
  {
   "cell_type": "code",
   "execution_count": 43,
   "metadata": {},
   "outputs": [
    {
     "name": "stdout",
     "output_type": "stream",
     "text": [
      "RMSE_test_2 = 28.075055404090158\n"
     ]
    }
   ],
   "source": [
    "RMSE_test_2 = rmserror(target_test, np.dot(data_test, grad_desc_weights))\n",
    "print(f'RMSE_test_2 = {RMSE_test_2}')"
   ]
  },
  {
   "cell_type": "code",
   "execution_count": 44,
   "metadata": {},
   "outputs": [
    {
     "name": "stdout",
     "output_type": "stream",
     "text": [
      "R2_test_2 = 0.2668317205904511\n"
     ]
    }
   ],
   "source": [
    "R2_test_2 = determination(data_test, target_test, grad_desc_weights)\n",
    "print(f'R2_test_2 = {R2_test_2}')"
   ]
  },
  {
   "cell_type": "markdown",
   "metadata": {},
   "source": [
    "ТРЕТИЙ ЭТАП ВАЛИДАЦИИ"
   ]
  },
  {
   "cell_type": "code",
   "execution_count": 45,
   "metadata": {},
   "outputs": [],
   "source": [
    "data_train = np.concatenate((data_split[0], data_split[1], data_split[3], data_split[4]), axis=0)"
   ]
  },
  {
   "cell_type": "code",
   "execution_count": 46,
   "metadata": {},
   "outputs": [],
   "source": [
    "data_test = data_split[2]"
   ]
  },
  {
   "cell_type": "code",
   "execution_count": 47,
   "metadata": {},
   "outputs": [],
   "source": [
    "target_train = np.concatenate((target_split[0], target_split[1], target_split[3], target_split[4]))"
   ]
  },
  {
   "cell_type": "code",
   "execution_count": 48,
   "metadata": {},
   "outputs": [],
   "source": [
    "target_test = target_split[2]"
   ]
  },
  {
   "cell_type": "markdown",
   "metadata": {},
   "source": [
    "Обучим нашу модель"
   ]
  },
  {
   "cell_type": "code",
   "execution_count": 49,
   "metadata": {
    "scrolled": true
   },
   "outputs": [],
   "source": [
    "grad_desc_weights = gradient_descent(data_train, target_train, np.zeros(X.shape[1]), lr=0.01, epoch_num=1000)"
   ]
  },
  {
   "cell_type": "markdown",
   "metadata": {},
   "source": [
    "В результате обучения получим следующие показатели значимостей признаков:"
   ]
  },
  {
   "cell_type": "code",
   "execution_count": 50,
   "metadata": {},
   "outputs": [
    {
     "data": {
      "text/plain": [
       "array([ 1.95546278e-01, -2.39882751e-01, -1.72539747e+00, -7.57136086e-02,\n",
       "       -4.40929850e+00,  4.70099899e+00,  8.80158094e+00,  1.04643119e+01,\n",
       "        1.29979841e+01, -9.99528358e-01,  6.34139135e-01,  5.77352749e+00,\n",
       "        1.47354428e+00, -7.07047207e+00, -1.41952786e-01,  1.93420061e+00,\n",
       "        6.06092427e+00,  1.70342693e+00, -5.10506692e+00,  2.52509636e+00,\n",
       "       -5.34848623e+00, -1.25942621e+01, -1.29453263e+01, -8.78286935e+00,\n",
       "        8.04214971e-02,  7.88814815e-01,  1.41131683e+00, -1.13151787e+00,\n",
       "        4.23052082e+00,  7.10512497e+00,  1.12097627e+01,  3.40014601e+00,\n",
       "       -9.18852750e+00,  6.61196228e+00, -3.94232172e+00,  5.90360750e-02,\n",
       "        1.82393914e+00,  8.14821693e-01, -1.56157812e-01, -1.45548232e-01,\n",
       "       -2.33246663e-01,  2.37183606e-01,  1.27747726e-01,  2.20905472e-01,\n",
       "       -6.94901720e-02, -1.76378087e-01,  1.68375602e-01, -1.10103677e-01,\n",
       "        3.36461687e-01,  7.61544966e-02,  7.30955659e-03, -3.04442192e-01,\n",
       "        7.26236864e+00])"
      ]
     },
     "execution_count": 50,
     "metadata": {},
     "output_type": "execute_result"
    }
   ],
   "source": [
    "grad_desc_weights"
   ]
  },
  {
   "cell_type": "markdown",
   "metadata": {},
   "source": [
    "Измерим метрики на тренировочных данных"
   ]
  },
  {
   "cell_type": "code",
   "execution_count": 51,
   "metadata": {},
   "outputs": [
    {
     "name": "stdout",
     "output_type": "stream",
     "text": [
      "RMSE_train_3 = 28.307639308586946\n"
     ]
    }
   ],
   "source": [
    "RMSE_train_3 = rmserror(target_train, np.dot(data_train, grad_desc_weights))\n",
    "print(f'RMSE_train_3 = {RMSE_train_3}')"
   ]
  },
  {
   "cell_type": "code",
   "execution_count": 52,
   "metadata": {},
   "outputs": [
    {
     "name": "stdout",
     "output_type": "stream",
     "text": [
      "R2_train_3 = 0.33042356599108536\n"
     ]
    }
   ],
   "source": [
    "R2_train_3 = determination(data_train, target_train, grad_desc_weights)\n",
    "print(f'R2_train_3 = {R2_train_3}')"
   ]
  },
  {
   "cell_type": "markdown",
   "metadata": {},
   "source": [
    "Измерим метрики на тестовых данных"
   ]
  },
  {
   "cell_type": "code",
   "execution_count": 53,
   "metadata": {},
   "outputs": [
    {
     "name": "stdout",
     "output_type": "stream",
     "text": [
      "RMSE_test_3 = 32.91321989373197\n"
     ]
    }
   ],
   "source": [
    "RMSE_test_3 = rmserror(target_test, np.dot(data_test, grad_desc_weights))\n",
    "print(f'RMSE_test_3 = {RMSE_test_3}')"
   ]
  },
  {
   "cell_type": "code",
   "execution_count": 54,
   "metadata": {},
   "outputs": [
    {
     "name": "stdout",
     "output_type": "stream",
     "text": [
      "R2_test_3 = 0.2836252494059337\n"
     ]
    }
   ],
   "source": [
    "R2_test_3 = determination(data_test, target_test, grad_desc_weights)\n",
    "print(f'R2_test_3 = {R2_test_3}')"
   ]
  },
  {
   "cell_type": "markdown",
   "metadata": {},
   "source": [
    "ЧЕТВЕРТЫЙ ЭТАП ВАЛИДАЦИИ"
   ]
  },
  {
   "cell_type": "code",
   "execution_count": 55,
   "metadata": {},
   "outputs": [],
   "source": [
    "data_train = np.concatenate((data_split[0], data_split[2], data_split[3], data_split[4]), axis=0)"
   ]
  },
  {
   "cell_type": "code",
   "execution_count": 56,
   "metadata": {},
   "outputs": [],
   "source": [
    "data_test = data_split[1]"
   ]
  },
  {
   "cell_type": "code",
   "execution_count": 57,
   "metadata": {},
   "outputs": [],
   "source": [
    "target_train = np.concatenate((target_split[0], target_split[2], target_split[3], target_split[4]))"
   ]
  },
  {
   "cell_type": "code",
   "execution_count": 58,
   "metadata": {},
   "outputs": [],
   "source": [
    "target_test = target_split[1]"
   ]
  },
  {
   "cell_type": "markdown",
   "metadata": {},
   "source": [
    "Обучим нашу модель"
   ]
  },
  {
   "cell_type": "code",
   "execution_count": 59,
   "metadata": {
    "scrolled": true
   },
   "outputs": [],
   "source": [
    "grad_desc_weights = gradient_descent(data_train, target_train, np.zeros(X.shape[1]), lr=0.01, epoch_num=1000)"
   ]
  },
  {
   "cell_type": "markdown",
   "metadata": {},
   "source": [
    "В результате обучения получим следующие показатели значимостей признаков:"
   ]
  },
  {
   "cell_type": "code",
   "execution_count": 60,
   "metadata": {},
   "outputs": [
    {
     "data": {
      "text/plain": [
       "array([ 4.23354159e-01, -3.40787664e-01, -2.38327598e+00, -1.74936356e-01,\n",
       "        1.14137175e-01,  4.15411353e+00,  8.50174397e+00,  1.13071896e+01,\n",
       "        1.31509949e+01, -2.13814593e+00, -3.49954268e+00,  4.75000293e+00,\n",
       "        4.07145861e+00,  2.75920470e-01,  5.12727244e-02,  1.82383209e+00,\n",
       "        5.71837236e+00, -2.46754387e-01, -7.48399962e+00, -6.41725680e-01,\n",
       "       -5.67975004e+00, -1.33709456e+01, -1.04752283e+01, -5.81984461e+00,\n",
       "       -1.41198310e+00,  3.19613482e+00, -1.36030518e-01, -7.47675105e-01,\n",
       "       -2.14351562e+00,  6.23426223e+00,  1.13991028e+01,  3.35903126e+00,\n",
       "       -8.94759182e+00,  6.79799755e+00, -4.15509428e+00,  1.93911983e-02,\n",
       "        2.10166764e+00,  8.10244862e-01, -2.07453589e-01, -3.09966074e-01,\n",
       "       -1.90743528e-01,  2.94502433e-01,  1.99359221e-01,  3.67900412e-01,\n",
       "       -1.82062042e-01, -3.01758596e-01,  2.48757774e-01,  5.02196091e-02,\n",
       "        4.04405109e-01, -1.21506325e-01,  8.38196364e-03, -2.83331701e-01,\n",
       "        7.37396290e+00])"
      ]
     },
     "execution_count": 60,
     "metadata": {},
     "output_type": "execute_result"
    }
   ],
   "source": [
    "grad_desc_weights"
   ]
  },
  {
   "cell_type": "markdown",
   "metadata": {},
   "source": [
    "Измерим метрики на тренировочных данных"
   ]
  },
  {
   "cell_type": "code",
   "execution_count": 61,
   "metadata": {},
   "outputs": [
    {
     "name": "stdout",
     "output_type": "stream",
     "text": [
      "RMSE_train_4 = 29.979374952550963\n"
     ]
    }
   ],
   "source": [
    "RMSE_train_4 = rmserror(target_train, np.dot(data_train, grad_desc_weights))\n",
    "print(f'RMSE_train_4 = {RMSE_train_4}')"
   ]
  },
  {
   "cell_type": "code",
   "execution_count": 62,
   "metadata": {},
   "outputs": [
    {
     "name": "stdout",
     "output_type": "stream",
     "text": [
      "R2_train_4 = 0.3170574713451648\n"
     ]
    }
   ],
   "source": [
    "R2_train_4 = determination(data_train, target_train, grad_desc_weights)\n",
    "print(f'R2_train_4 = {R2_train_4}')"
   ]
  },
  {
   "cell_type": "markdown",
   "metadata": {},
   "source": [
    "Измерим метрики на тестовых данных"
   ]
  },
  {
   "cell_type": "code",
   "execution_count": 63,
   "metadata": {},
   "outputs": [
    {
     "name": "stdout",
     "output_type": "stream",
     "text": [
      "RMSE_test_4 = 25.927217508183613\n"
     ]
    }
   ],
   "source": [
    "RMSE_test_4 = rmserror(target_test, np.dot(data_test, grad_desc_weights))\n",
    "print(f'RMSE_test_4 = {RMSE_test_4}')"
   ]
  },
  {
   "cell_type": "code",
   "execution_count": 64,
   "metadata": {},
   "outputs": [
    {
     "name": "stdout",
     "output_type": "stream",
     "text": [
      "R2_test_4 = 0.35047025039730373\n"
     ]
    }
   ],
   "source": [
    "R2_test_4 = determination(data_test, target_test, grad_desc_weights)\n",
    "print(f'R2_test_4 = {R2_test_4}')"
   ]
  },
  {
   "cell_type": "markdown",
   "metadata": {},
   "source": [
    "ПЯТЫЙ ЭТАП ВАЛИДАЦИИ"
   ]
  },
  {
   "cell_type": "code",
   "execution_count": 65,
   "metadata": {},
   "outputs": [],
   "source": [
    "data_train = np.concatenate((data_split[1], data_split[2], data_split[3], data_split[4]), axis=0)"
   ]
  },
  {
   "cell_type": "code",
   "execution_count": 66,
   "metadata": {},
   "outputs": [],
   "source": [
    "data_test = data_split[0]"
   ]
  },
  {
   "cell_type": "code",
   "execution_count": 67,
   "metadata": {},
   "outputs": [],
   "source": [
    "target_train = np.concatenate((target_split[1], target_split[2], target_split[3], target_split[4]))"
   ]
  },
  {
   "cell_type": "code",
   "execution_count": 68,
   "metadata": {},
   "outputs": [],
   "source": [
    "target_test = target_split[0]"
   ]
  },
  {
   "cell_type": "markdown",
   "metadata": {},
   "source": [
    "Обучим нашу модель"
   ]
  },
  {
   "cell_type": "code",
   "execution_count": 69,
   "metadata": {
    "scrolled": true
   },
   "outputs": [],
   "source": [
    "grad_desc_weights = gradient_descent(data_train, target_train, np.zeros(X.shape[1]), lr=0.01, epoch_num=1000)"
   ]
  },
  {
   "cell_type": "markdown",
   "metadata": {},
   "source": [
    "В результате обучения получим следующие показатели значимостей признаков:"
   ]
  },
  {
   "cell_type": "code",
   "execution_count": 70,
   "metadata": {},
   "outputs": [
    {
     "data": {
      "text/plain": [
       "array([ 1.33332078e-01, -3.84586536e-01, -2.03875335e+00, -1.27908853e-01,\n",
       "       -5.87981574e-01,  3.86961133e+00,  7.21958793e+00,  5.34534975e+00,\n",
       "        8.70908930e+00, -1.78239062e+00, -3.41887178e+00,  4.45677599e+00,\n",
       "        3.04957794e+00,  4.49161934e+00, -5.95004993e-02,  1.31158273e+00,\n",
       "        5.29430790e+00,  1.05623993e+00, -2.57816520e+00,  6.41254975e-01,\n",
       "       -4.90388372e+00, -1.20795785e+01, -4.33701776e+00, -4.79422149e+00,\n",
       "       -1.75929239e+00,  3.14200532e+00, -1.70003894e-03,  4.35863590e-01,\n",
       "       -7.89918262e+00,  9.13956317e+00,  1.15797846e+01,  3.58199473e+00,\n",
       "       -1.18402906e+01,  6.77769059e+00, -3.99936434e+00, -5.66386106e-03,\n",
       "        2.04566086e+00,  7.66692332e-01,  3.97889805e-02, -2.01013145e-01,\n",
       "       -1.02174241e-01,  1.49064409e-01,  9.59258244e-02,  1.14780276e-01,\n",
       "       -1.00863461e-01, -6.24088750e-02,  1.25074477e-01, -1.36153136e-01,\n",
       "        1.77426419e-01, -8.88058568e-02,  5.71641326e-02, -7.13900104e-02,\n",
       "        7.31609957e+00])"
      ]
     },
     "execution_count": 70,
     "metadata": {},
     "output_type": "execute_result"
    }
   ],
   "source": [
    "grad_desc_weights"
   ]
  },
  {
   "cell_type": "markdown",
   "metadata": {},
   "source": [
    "Измерим метрики на тренировочных данных"
   ]
  },
  {
   "cell_type": "code",
   "execution_count": 71,
   "metadata": {},
   "outputs": [
    {
     "name": "stdout",
     "output_type": "stream",
     "text": [
      "RMSE_train_5 = 28.70057301831409\n"
     ]
    }
   ],
   "source": [
    "RMSE_train_5 = rmserror(target_train, np.dot(data_train, grad_desc_weights))\n",
    "print(f'RMSE_train_5 = {RMSE_train_5}')"
   ]
  },
  {
   "cell_type": "code",
   "execution_count": 72,
   "metadata": {},
   "outputs": [
    {
     "name": "stdout",
     "output_type": "stream",
     "text": [
      "R2_train_5 = 0.3316654322364757\n"
     ]
    }
   ],
   "source": [
    "R2_train_5 = determination(data_train, target_train, grad_desc_weights)\n",
    "print(f'R2_train_5 = {R2_train_5}')"
   ]
  },
  {
   "cell_type": "markdown",
   "metadata": {},
   "source": [
    "Измерим метрики на тестовых данных"
   ]
  },
  {
   "cell_type": "code",
   "execution_count": 73,
   "metadata": {},
   "outputs": [
    {
     "name": "stdout",
     "output_type": "stream",
     "text": [
      "RMSE_test_5 = 31.15216066990033\n"
     ]
    }
   ],
   "source": [
    "RMSE_test_5 = rmserror(target_test, np.dot(data_test, grad_desc_weights))\n",
    "print(f'RMSE_test_5 = {RMSE_test_5}')"
   ]
  },
  {
   "cell_type": "code",
   "execution_count": 74,
   "metadata": {},
   "outputs": [
    {
     "name": "stdout",
     "output_type": "stream",
     "text": [
      "R2_test_5 = 0.29127439035588043\n"
     ]
    }
   ],
   "source": [
    "R2_test_5 = determination(data_test, target_test, grad_desc_weights)\n",
    "print(f'R2_test_5 = {R2_test_5}')"
   ]
  },
  {
   "cell_type": "markdown",
   "metadata": {},
   "source": [
    "Полученные данные по метрикам качества модели объединим в таблицу Results_mini_batch.xls.\n",
    "Проанализировав полученные результаты, можно сделать вывод: большая часть результатов соответствуют установленным нормам, что говорит об успешном решении поставленной задачи. "
   ]
  },
  {
   "cell_type": "code",
   "execution_count": null,
   "metadata": {},
   "outputs": [],
   "source": []
  }
 ],
 "metadata": {
  "kernelspec": {
   "display_name": "Python 3",
   "language": "python",
   "name": "python3"
  },
  "language_info": {
   "codemirror_mode": {
    "name": "ipython",
    "version": 3
   },
   "file_extension": ".py",
   "mimetype": "text/x-python",
   "name": "python",
   "nbconvert_exporter": "python",
   "pygments_lexer": "ipython3",
   "version": "3.6.7"
  }
 },
 "nbformat": 4,
 "nbformat_minor": 2
}
