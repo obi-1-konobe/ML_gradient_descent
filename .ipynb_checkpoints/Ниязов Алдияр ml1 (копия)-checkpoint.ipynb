{
 "cells": [
  {
   "cell_type": "markdown",
   "metadata": {},
   "source": [
    "# Ниязов Алдияр М.19-04 \n",
    "Задание 1 Предсказание количества комментариев к посту в FaceBook"
   ]
  },
  {
   "cell_type": "markdown",
   "metadata": {},
   "source": [
    "Произведем выгрузку данных из датасета"
   ]
  },
  {
   "cell_type": "code",
   "execution_count": 31,
   "metadata": {},
   "outputs": [],
   "source": [
    "import pandas as pd\n",
    "import numpy as np\n",
    "data = pd.read_csv('Dataset/Training/Features_Variant_1.csv')"
   ]
  },
  {
   "cell_type": "markdown",
   "metadata": {},
   "source": [
    "Посмотрим на них"
   ]
  },
  {
   "cell_type": "code",
   "execution_count": 32,
   "metadata": {},
   "outputs": [
    {
     "data": {
      "text/html": [
       "<div>\n",
       "<style scoped>\n",
       "    .dataframe tbody tr th:only-of-type {\n",
       "        vertical-align: middle;\n",
       "    }\n",
       "\n",
       "    .dataframe tbody tr th {\n",
       "        vertical-align: top;\n",
       "    }\n",
       "\n",
       "    .dataframe thead th {\n",
       "        text-align: right;\n",
       "    }\n",
       "</style>\n",
       "<table border=\"1\" class=\"dataframe\">\n",
       "  <thead>\n",
       "    <tr style=\"text-align: right;\">\n",
       "      <th></th>\n",
       "      <th>634995</th>\n",
       "      <th>0</th>\n",
       "      <th>463</th>\n",
       "      <th>1</th>\n",
       "      <th>0.0</th>\n",
       "      <th>806.0</th>\n",
       "      <th>11.291044776119403</th>\n",
       "      <th>1.0</th>\n",
       "      <th>70.49513846124168</th>\n",
       "      <th>0.0.1</th>\n",
       "      <th>...</th>\n",
       "      <th>0.11</th>\n",
       "      <th>0.12</th>\n",
       "      <th>0.13</th>\n",
       "      <th>0.14</th>\n",
       "      <th>0.15</th>\n",
       "      <th>0.16</th>\n",
       "      <th>0.17</th>\n",
       "      <th>0.18</th>\n",
       "      <th>1.2</th>\n",
       "      <th>0.19</th>\n",
       "    </tr>\n",
       "  </thead>\n",
       "  <tbody>\n",
       "    <tr>\n",
       "      <td>0</td>\n",
       "      <td>634995</td>\n",
       "      <td>0</td>\n",
       "      <td>463</td>\n",
       "      <td>1</td>\n",
       "      <td>0.0</td>\n",
       "      <td>806.0</td>\n",
       "      <td>11.291045</td>\n",
       "      <td>1.0</td>\n",
       "      <td>70.495138</td>\n",
       "      <td>0.0</td>\n",
       "      <td>...</td>\n",
       "      <td>0</td>\n",
       "      <td>0</td>\n",
       "      <td>0</td>\n",
       "      <td>0</td>\n",
       "      <td>0</td>\n",
       "      <td>0</td>\n",
       "      <td>0</td>\n",
       "      <td>1</td>\n",
       "      <td>0</td>\n",
       "      <td>0</td>\n",
       "    </tr>\n",
       "    <tr>\n",
       "      <td>1</td>\n",
       "      <td>634995</td>\n",
       "      <td>0</td>\n",
       "      <td>463</td>\n",
       "      <td>1</td>\n",
       "      <td>0.0</td>\n",
       "      <td>806.0</td>\n",
       "      <td>11.291045</td>\n",
       "      <td>1.0</td>\n",
       "      <td>70.495138</td>\n",
       "      <td>0.0</td>\n",
       "      <td>...</td>\n",
       "      <td>1</td>\n",
       "      <td>0</td>\n",
       "      <td>0</td>\n",
       "      <td>0</td>\n",
       "      <td>0</td>\n",
       "      <td>0</td>\n",
       "      <td>0</td>\n",
       "      <td>0</td>\n",
       "      <td>1</td>\n",
       "      <td>0</td>\n",
       "    </tr>\n",
       "    <tr>\n",
       "      <td>2</td>\n",
       "      <td>634995</td>\n",
       "      <td>0</td>\n",
       "      <td>463</td>\n",
       "      <td>1</td>\n",
       "      <td>0.0</td>\n",
       "      <td>806.0</td>\n",
       "      <td>11.291045</td>\n",
       "      <td>1.0</td>\n",
       "      <td>70.495138</td>\n",
       "      <td>0.0</td>\n",
       "      <td>...</td>\n",
       "      <td>1</td>\n",
       "      <td>0</td>\n",
       "      <td>0</td>\n",
       "      <td>1</td>\n",
       "      <td>0</td>\n",
       "      <td>0</td>\n",
       "      <td>0</td>\n",
       "      <td>0</td>\n",
       "      <td>0</td>\n",
       "      <td>0</td>\n",
       "    </tr>\n",
       "    <tr>\n",
       "      <td>3</td>\n",
       "      <td>634995</td>\n",
       "      <td>0</td>\n",
       "      <td>463</td>\n",
       "      <td>1</td>\n",
       "      <td>0.0</td>\n",
       "      <td>806.0</td>\n",
       "      <td>11.291045</td>\n",
       "      <td>1.0</td>\n",
       "      <td>70.495138</td>\n",
       "      <td>0.0</td>\n",
       "      <td>...</td>\n",
       "      <td>0</td>\n",
       "      <td>0</td>\n",
       "      <td>0</td>\n",
       "      <td>0</td>\n",
       "      <td>0</td>\n",
       "      <td>1</td>\n",
       "      <td>0</td>\n",
       "      <td>0</td>\n",
       "      <td>0</td>\n",
       "      <td>0</td>\n",
       "    </tr>\n",
       "    <tr>\n",
       "      <td>4</td>\n",
       "      <td>634995</td>\n",
       "      <td>0</td>\n",
       "      <td>463</td>\n",
       "      <td>1</td>\n",
       "      <td>0.0</td>\n",
       "      <td>806.0</td>\n",
       "      <td>11.291045</td>\n",
       "      <td>1.0</td>\n",
       "      <td>70.495138</td>\n",
       "      <td>0.0</td>\n",
       "      <td>...</td>\n",
       "      <td>0</td>\n",
       "      <td>0</td>\n",
       "      <td>0</td>\n",
       "      <td>0</td>\n",
       "      <td>0</td>\n",
       "      <td>0</td>\n",
       "      <td>0</td>\n",
       "      <td>1</td>\n",
       "      <td>0</td>\n",
       "      <td>0</td>\n",
       "    </tr>\n",
       "    <tr>\n",
       "      <td>...</td>\n",
       "      <td>...</td>\n",
       "      <td>...</td>\n",
       "      <td>...</td>\n",
       "      <td>...</td>\n",
       "      <td>...</td>\n",
       "      <td>...</td>\n",
       "      <td>...</td>\n",
       "      <td>...</td>\n",
       "      <td>...</td>\n",
       "      <td>...</td>\n",
       "      <td>...</td>\n",
       "      <td>...</td>\n",
       "      <td>...</td>\n",
       "      <td>...</td>\n",
       "      <td>...</td>\n",
       "      <td>...</td>\n",
       "      <td>...</td>\n",
       "      <td>...</td>\n",
       "      <td>...</td>\n",
       "      <td>...</td>\n",
       "      <td>...</td>\n",
       "    </tr>\n",
       "    <tr>\n",
       "      <td>40943</td>\n",
       "      <td>7170111</td>\n",
       "      <td>70</td>\n",
       "      <td>497000</td>\n",
       "      <td>9</td>\n",
       "      <td>0.0</td>\n",
       "      <td>1881.0</td>\n",
       "      <td>497.200000</td>\n",
       "      <td>269.0</td>\n",
       "      <td>502.318385</td>\n",
       "      <td>0.0</td>\n",
       "      <td>...</td>\n",
       "      <td>0</td>\n",
       "      <td>0</td>\n",
       "      <td>0</td>\n",
       "      <td>0</td>\n",
       "      <td>0</td>\n",
       "      <td>0</td>\n",
       "      <td>0</td>\n",
       "      <td>1</td>\n",
       "      <td>0</td>\n",
       "      <td>1</td>\n",
       "    </tr>\n",
       "    <tr>\n",
       "      <td>40944</td>\n",
       "      <td>7170111</td>\n",
       "      <td>70</td>\n",
       "      <td>497000</td>\n",
       "      <td>9</td>\n",
       "      <td>0.0</td>\n",
       "      <td>1881.0</td>\n",
       "      <td>497.200000</td>\n",
       "      <td>269.0</td>\n",
       "      <td>502.318385</td>\n",
       "      <td>0.0</td>\n",
       "      <td>...</td>\n",
       "      <td>0</td>\n",
       "      <td>0</td>\n",
       "      <td>0</td>\n",
       "      <td>0</td>\n",
       "      <td>0</td>\n",
       "      <td>0</td>\n",
       "      <td>0</td>\n",
       "      <td>1</td>\n",
       "      <td>0</td>\n",
       "      <td>2</td>\n",
       "    </tr>\n",
       "    <tr>\n",
       "      <td>40945</td>\n",
       "      <td>7170111</td>\n",
       "      <td>70</td>\n",
       "      <td>497000</td>\n",
       "      <td>9</td>\n",
       "      <td>0.0</td>\n",
       "      <td>1881.0</td>\n",
       "      <td>497.200000</td>\n",
       "      <td>269.0</td>\n",
       "      <td>502.318385</td>\n",
       "      <td>0.0</td>\n",
       "      <td>...</td>\n",
       "      <td>0</td>\n",
       "      <td>0</td>\n",
       "      <td>0</td>\n",
       "      <td>0</td>\n",
       "      <td>0</td>\n",
       "      <td>0</td>\n",
       "      <td>1</td>\n",
       "      <td>0</td>\n",
       "      <td>0</td>\n",
       "      <td>72</td>\n",
       "    </tr>\n",
       "    <tr>\n",
       "      <td>40946</td>\n",
       "      <td>7170111</td>\n",
       "      <td>70</td>\n",
       "      <td>497000</td>\n",
       "      <td>9</td>\n",
       "      <td>0.0</td>\n",
       "      <td>1881.0</td>\n",
       "      <td>497.200000</td>\n",
       "      <td>269.0</td>\n",
       "      <td>502.318385</td>\n",
       "      <td>0.0</td>\n",
       "      <td>...</td>\n",
       "      <td>0</td>\n",
       "      <td>0</td>\n",
       "      <td>0</td>\n",
       "      <td>0</td>\n",
       "      <td>0</td>\n",
       "      <td>0</td>\n",
       "      <td>0</td>\n",
       "      <td>1</td>\n",
       "      <td>0</td>\n",
       "      <td>28</td>\n",
       "    </tr>\n",
       "    <tr>\n",
       "      <td>40947</td>\n",
       "      <td>7170111</td>\n",
       "      <td>70</td>\n",
       "      <td>497000</td>\n",
       "      <td>9</td>\n",
       "      <td>0.0</td>\n",
       "      <td>1881.0</td>\n",
       "      <td>497.200000</td>\n",
       "      <td>269.0</td>\n",
       "      <td>502.318385</td>\n",
       "      <td>0.0</td>\n",
       "      <td>...</td>\n",
       "      <td>0</td>\n",
       "      <td>0</td>\n",
       "      <td>0</td>\n",
       "      <td>0</td>\n",
       "      <td>0</td>\n",
       "      <td>0</td>\n",
       "      <td>0</td>\n",
       "      <td>1</td>\n",
       "      <td>0</td>\n",
       "      <td>11</td>\n",
       "    </tr>\n",
       "  </tbody>\n",
       "</table>\n",
       "<p>40948 rows × 54 columns</p>\n",
       "</div>"
      ],
      "text/plain": [
       "        634995   0     463  1  0.0   806.0  11.291044776119403    1.0  \\\n",
       "0       634995   0     463  1  0.0   806.0           11.291045    1.0   \n",
       "1       634995   0     463  1  0.0   806.0           11.291045    1.0   \n",
       "2       634995   0     463  1  0.0   806.0           11.291045    1.0   \n",
       "3       634995   0     463  1  0.0   806.0           11.291045    1.0   \n",
       "4       634995   0     463  1  0.0   806.0           11.291045    1.0   \n",
       "...        ...  ..     ... ..  ...     ...                 ...    ...   \n",
       "40943  7170111  70  497000  9  0.0  1881.0          497.200000  269.0   \n",
       "40944  7170111  70  497000  9  0.0  1881.0          497.200000  269.0   \n",
       "40945  7170111  70  497000  9  0.0  1881.0          497.200000  269.0   \n",
       "40946  7170111  70  497000  9  0.0  1881.0          497.200000  269.0   \n",
       "40947  7170111  70  497000  9  0.0  1881.0          497.200000  269.0   \n",
       "\n",
       "       70.49513846124168  0.0.1  ...  0.11  0.12  0.13  0.14  0.15  0.16  \\\n",
       "0              70.495138    0.0  ...     0     0     0     0     0     0   \n",
       "1              70.495138    0.0  ...     1     0     0     0     0     0   \n",
       "2              70.495138    0.0  ...     1     0     0     1     0     0   \n",
       "3              70.495138    0.0  ...     0     0     0     0     0     1   \n",
       "4              70.495138    0.0  ...     0     0     0     0     0     0   \n",
       "...                  ...    ...  ...   ...   ...   ...   ...   ...   ...   \n",
       "40943         502.318385    0.0  ...     0     0     0     0     0     0   \n",
       "40944         502.318385    0.0  ...     0     0     0     0     0     0   \n",
       "40945         502.318385    0.0  ...     0     0     0     0     0     0   \n",
       "40946         502.318385    0.0  ...     0     0     0     0     0     0   \n",
       "40947         502.318385    0.0  ...     0     0     0     0     0     0   \n",
       "\n",
       "       0.17  0.18  1.2  0.19  \n",
       "0         0     1    0     0  \n",
       "1         0     0    1     0  \n",
       "2         0     0    0     0  \n",
       "3         0     0    0     0  \n",
       "4         0     1    0     0  \n",
       "...     ...   ...  ...   ...  \n",
       "40943     0     1    0     1  \n",
       "40944     0     1    0     2  \n",
       "40945     1     0    0    72  \n",
       "40946     0     1    0    28  \n",
       "40947     0     1    0    11  \n",
       "\n",
       "[40948 rows x 54 columns]"
      ]
     },
     "execution_count": 32,
     "metadata": {},
     "output_type": "execute_result"
    }
   ],
   "source": [
    "data"
   ]
  },
  {
   "cell_type": "markdown",
   "metadata": {},
   "source": [
    "Так как данные в датасете отсортированы и это негативно скажется на обучении модели, то перемешаем их"
   ]
  },
  {
   "cell_type": "code",
   "execution_count": 33,
   "metadata": {
    "scrolled": true
   },
   "outputs": [
    {
     "data": {
      "text/html": [
       "<div>\n",
       "<style scoped>\n",
       "    .dataframe tbody tr th:only-of-type {\n",
       "        vertical-align: middle;\n",
       "    }\n",
       "\n",
       "    .dataframe tbody tr th {\n",
       "        vertical-align: top;\n",
       "    }\n",
       "\n",
       "    .dataframe thead th {\n",
       "        text-align: right;\n",
       "    }\n",
       "</style>\n",
       "<table border=\"1\" class=\"dataframe\">\n",
       "  <thead>\n",
       "    <tr style=\"text-align: right;\">\n",
       "      <th></th>\n",
       "      <th>634995</th>\n",
       "      <th>0</th>\n",
       "      <th>463</th>\n",
       "      <th>1</th>\n",
       "      <th>0.0</th>\n",
       "      <th>806.0</th>\n",
       "      <th>11.291044776119403</th>\n",
       "      <th>1.0</th>\n",
       "      <th>70.49513846124168</th>\n",
       "      <th>0.0.1</th>\n",
       "      <th>...</th>\n",
       "      <th>0.11</th>\n",
       "      <th>0.12</th>\n",
       "      <th>0.13</th>\n",
       "      <th>0.14</th>\n",
       "      <th>0.15</th>\n",
       "      <th>0.16</th>\n",
       "      <th>0.17</th>\n",
       "      <th>0.18</th>\n",
       "      <th>1.2</th>\n",
       "      <th>0.19</th>\n",
       "    </tr>\n",
       "  </thead>\n",
       "  <tbody>\n",
       "    <tr>\n",
       "      <td>39204</td>\n",
       "      <td>2046147</td>\n",
       "      <td>0</td>\n",
       "      <td>123685</td>\n",
       "      <td>9</td>\n",
       "      <td>0.0</td>\n",
       "      <td>1369.0</td>\n",
       "      <td>117.420601</td>\n",
       "      <td>69.0</td>\n",
       "      <td>157.616838</td>\n",
       "      <td>0.0</td>\n",
       "      <td>...</td>\n",
       "      <td>0</td>\n",
       "      <td>1</td>\n",
       "      <td>0</td>\n",
       "      <td>1</td>\n",
       "      <td>0</td>\n",
       "      <td>0</td>\n",
       "      <td>0</td>\n",
       "      <td>0</td>\n",
       "      <td>0</td>\n",
       "      <td>0</td>\n",
       "    </tr>\n",
       "    <tr>\n",
       "      <td>28865</td>\n",
       "      <td>1847</td>\n",
       "      <td>0</td>\n",
       "      <td>65</td>\n",
       "      <td>17</td>\n",
       "      <td>0.0</td>\n",
       "      <td>26.0</td>\n",
       "      <td>6.435897</td>\n",
       "      <td>4.0</td>\n",
       "      <td>6.352043</td>\n",
       "      <td>0.0</td>\n",
       "      <td>...</td>\n",
       "      <td>0</td>\n",
       "      <td>0</td>\n",
       "      <td>0</td>\n",
       "      <td>0</td>\n",
       "      <td>0</td>\n",
       "      <td>0</td>\n",
       "      <td>0</td>\n",
       "      <td>1</td>\n",
       "      <td>0</td>\n",
       "      <td>2</td>\n",
       "    </tr>\n",
       "    <tr>\n",
       "      <td>14483</td>\n",
       "      <td>55520</td>\n",
       "      <td>0</td>\n",
       "      <td>13</td>\n",
       "      <td>26</td>\n",
       "      <td>0.0</td>\n",
       "      <td>222.0</td>\n",
       "      <td>5.790323</td>\n",
       "      <td>1.0</td>\n",
       "      <td>21.230788</td>\n",
       "      <td>0.0</td>\n",
       "      <td>...</td>\n",
       "      <td>0</td>\n",
       "      <td>0</td>\n",
       "      <td>0</td>\n",
       "      <td>0</td>\n",
       "      <td>1</td>\n",
       "      <td>0</td>\n",
       "      <td>0</td>\n",
       "      <td>0</td>\n",
       "      <td>0</td>\n",
       "      <td>0</td>\n",
       "    </tr>\n",
       "    <tr>\n",
       "      <td>36075</td>\n",
       "      <td>668834</td>\n",
       "      <td>4</td>\n",
       "      <td>42523</td>\n",
       "      <td>9</td>\n",
       "      <td>0.0</td>\n",
       "      <td>1405.0</td>\n",
       "      <td>112.298755</td>\n",
       "      <td>89.0</td>\n",
       "      <td>123.095019</td>\n",
       "      <td>0.0</td>\n",
       "      <td>...</td>\n",
       "      <td>1</td>\n",
       "      <td>0</td>\n",
       "      <td>0</td>\n",
       "      <td>0</td>\n",
       "      <td>0</td>\n",
       "      <td>0</td>\n",
       "      <td>0</td>\n",
       "      <td>0</td>\n",
       "      <td>1</td>\n",
       "      <td>13</td>\n",
       "    </tr>\n",
       "    <tr>\n",
       "      <td>5006</td>\n",
       "      <td>8189</td>\n",
       "      <td>523</td>\n",
       "      <td>33</td>\n",
       "      <td>23</td>\n",
       "      <td>0.0</td>\n",
       "      <td>1.0</td>\n",
       "      <td>0.083333</td>\n",
       "      <td>0.0</td>\n",
       "      <td>0.276385</td>\n",
       "      <td>0.0</td>\n",
       "      <td>...</td>\n",
       "      <td>0</td>\n",
       "      <td>0</td>\n",
       "      <td>0</td>\n",
       "      <td>0</td>\n",
       "      <td>0</td>\n",
       "      <td>1</td>\n",
       "      <td>0</td>\n",
       "      <td>0</td>\n",
       "      <td>0</td>\n",
       "      <td>0</td>\n",
       "    </tr>\n",
       "  </tbody>\n",
       "</table>\n",
       "<p>5 rows × 54 columns</p>\n",
       "</div>"
      ],
      "text/plain": [
       "        634995    0     463   1  0.0   806.0  11.291044776119403   1.0  \\\n",
       "39204  2046147    0  123685   9  0.0  1369.0          117.420601  69.0   \n",
       "28865     1847    0      65  17  0.0    26.0            6.435897   4.0   \n",
       "14483    55520    0      13  26  0.0   222.0            5.790323   1.0   \n",
       "36075   668834    4   42523   9  0.0  1405.0          112.298755  89.0   \n",
       "5006      8189  523      33  23  0.0     1.0            0.083333   0.0   \n",
       "\n",
       "       70.49513846124168  0.0.1  ...  0.11  0.12  0.13  0.14  0.15  0.16  \\\n",
       "39204         157.616838    0.0  ...     0     1     0     1     0     0   \n",
       "28865           6.352043    0.0  ...     0     0     0     0     0     0   \n",
       "14483          21.230788    0.0  ...     0     0     0     0     1     0   \n",
       "36075         123.095019    0.0  ...     1     0     0     0     0     0   \n",
       "5006            0.276385    0.0  ...     0     0     0     0     0     1   \n",
       "\n",
       "       0.17  0.18  1.2  0.19  \n",
       "39204     0     0    0     0  \n",
       "28865     0     1    0     2  \n",
       "14483     0     0    0     0  \n",
       "36075     0     0    1    13  \n",
       "5006      0     0    0     0  \n",
       "\n",
       "[5 rows x 54 columns]"
      ]
     },
     "execution_count": 33,
     "metadata": {},
     "output_type": "execute_result"
    }
   ],
   "source": [
    "data = data.sample(frac=1)\n",
    "data.head()"
   ]
  },
  {
   "cell_type": "markdown",
   "metadata": {},
   "source": [
    "Отделим значения целевого признака в отдельный массив y"
   ]
  },
  {
   "cell_type": "code",
   "execution_count": 34,
   "metadata": {},
   "outputs": [],
   "source": [
    "y = data['0.19'].values"
   ]
  },
  {
   "cell_type": "markdown",
   "metadata": {},
   "source": [
    "Оставшиеся признаки сгруппируем в матрицу Х"
   ]
  },
  {
   "cell_type": "code",
   "execution_count": 35,
   "metadata": {},
   "outputs": [],
   "source": [
    "data = data.values"
   ]
  },
  {
   "cell_type": "code",
   "execution_count": 36,
   "metadata": {},
   "outputs": [],
   "source": [
    "X = np.delete(data, 53, axis=1)"
   ]
  },
  {
   "cell_type": "markdown",
   "metadata": {},
   "source": [
    "Вычислим средние значения признаков (means) и стандартное отклонение (stds) по каждому столбцу матрицы Х. Сгруппируем значения в соответствующие массивы."
   ]
  },
  {
   "cell_type": "code",
   "execution_count": 37,
   "metadata": {},
   "outputs": [],
   "source": [
    "means, stds = [np.mean(X, axis=0), np.std(X, axis=0)]"
   ]
  },
  {
   "cell_type": "markdown",
   "metadata": {},
   "source": [
    "Если у какого-нибудь признака стандартное отклонение равно 0, значит этот признак является константой и не имеет никакого влияния на целевой признак. Определим такой признак в Х и удалим его из выборки:"
   ]
  },
  {
   "cell_type": "code",
   "execution_count": 38,
   "metadata": {},
   "outputs": [
    {
     "data": {
      "text/plain": [
       "(array([37]),)"
      ]
     },
     "execution_count": 38,
     "metadata": {},
     "output_type": "execute_result"
    }
   ],
   "source": [
    "np.where(stds==0)"
   ]
  },
  {
   "cell_type": "code",
   "execution_count": 39,
   "metadata": {},
   "outputs": [],
   "source": [
    "X = np.delete(X, 37, axis=1)"
   ]
  },
  {
   "cell_type": "markdown",
   "metadata": {},
   "source": [
    "Пересчитаем means и stds"
   ]
  },
  {
   "cell_type": "code",
   "execution_count": 40,
   "metadata": {},
   "outputs": [],
   "source": [
    "means, stds = [np.mean(X, axis=0), np.std(X, axis=0)]"
   ]
  },
  {
   "cell_type": "markdown",
   "metadata": {},
   "source": [
    "Произведем нормировку признаков. От каждого значения матрицы Х отнимем среднее значение по столбцу, а результат поделим на стандартное отклонение этого столбца."
   ]
  },
  {
   "cell_type": "code",
   "execution_count": 41,
   "metadata": {},
   "outputs": [],
   "source": [
    "def normalize_features(X):\n",
    "    for i in range(0, X.shape[0]):\n",
    "        for j in range(0, X.shape[1]):\n",
    "            X[i][j] = (X[i][j] - means[j])/stds[j]\n",
    "    return X"
   ]
  },
  {
   "cell_type": "code",
   "execution_count": 42,
   "metadata": {},
   "outputs": [],
   "source": [
    "X = normalize_features(X)"
   ]
  },
  {
   "cell_type": "markdown",
   "metadata": {},
   "source": [
    "Добавим к матрице X столбец из единиц, чтобы не обрабатывать отдельно коэффициент $w_0$ линейной регрессии"
   ]
  },
  {
   "cell_type": "code",
   "execution_count": 43,
   "metadata": {},
   "outputs": [],
   "source": [
    "X = np.hstack((X, np.ones((len(X), 1))))\n"
   ]
  },
  {
   "cell_type": "markdown",
   "metadata": {},
   "source": [
    "Опишем фунциb вычисления метрик качества. Данные показатели характеризует качество применяемой модели"
   ]
  },
  {
   "cell_type": "code",
   "execution_count": 44,
   "metadata": {},
   "outputs": [],
   "source": [
    "def mserror(y, y_pred):\n",
    "    return 1/l*sum((y - y_pred) ** 2)"
   ]
  },
  {
   "cell_type": "code",
   "execution_count": 45,
   "metadata": {},
   "outputs": [],
   "source": [
    "def rmserror(y, y_pred):\n",
    "    return np.sqrt(mserror(y, y_pred))"
   ]
  },
  {
   "cell_type": "code",
   "execution_count": 46,
   "metadata": {},
   "outputs": [],
   "source": [
    "def determination(X, y, w):\n",
    "    return 1 - (sum((np.dot(X, w) - y)**2) / sum((y - np.mean(y, axis=0))**2))"
   ]
  },
  {
   "cell_type": "markdown",
   "metadata": {},
   "source": [
    "Опишем функцию прогноза для линейной модели, принимающую матрицу Х и вектор весов признаков w, возвращающую вектор прогнозов"
   ]
  },
  {
   "cell_type": "code",
   "execution_count": 47,
   "metadata": {},
   "outputs": [],
   "source": [
    "def linear_prediction(X, w):\n",
    "    return np.dot(X, w)\n"
   ]
  },
  {
   "cell_type": "markdown",
   "metadata": {},
   "source": [
    "Градиент функционала ошибки вычисляется по формуле:\n",
    "$$\\Large 2/l*{X^T(Xw-y)} $$\n",
    "где L - общее количество объектов выборки"
   ]
  },
  {
   "cell_type": "code",
   "execution_count": 48,
   "metadata": {},
   "outputs": [],
   "source": [
    "l = X.shape[0]"
   ]
  },
  {
   "cell_type": "code",
   "execution_count": 66,
   "metadata": {},
   "outputs": [],
   "source": [
    "def gradient_step(X, y, w):\n",
    "    return  np.dot(2/l * X.T, np.add(linear_prediction(X, w), - y))\n",
    "    "
   ]
  },
  {
   "cell_type": "markdown",
   "metadata": {},
   "source": [
    "Градиентный спуск будет производиться в цикле по формуле:\n",
    "    $$\\Large w^t = w^{t-1} - eta*gradient step $$ \n",
    "    eta - коэффициент шага\n",
    "    \n",
    "Цикл завершится при условии $$ w^t - w^{t-1} $$ станет незначительно малой величиной"
   ]
  },
  {
   "cell_type": "code",
   "execution_count": 50,
   "metadata": {},
   "outputs": [],
   "source": [
    "def gradient_descent(X, y, w_init, eta=1e-2, max_iter=1e4, min_weight_dist=1e-8, verbose=False):\n",
    "    weight_dist = np.inf\n",
    "    w = w_init\n",
    "    iter_num = 0\n",
    "    # Основной цикл\n",
    "    for i in range (max_iter):\n",
    "        np.random.shuffle(X)\n",
    "    while weight_dist > min_weight_dist and iter_num < max_iter:\n",
    "        \n",
    "        w_cur = w - eta * gradient_step(X, y, w)\n",
    "        weight_dist = np.linalg.norm(w_cur - w)\n",
    "        w = w_cur\n",
    "        \n",
    "        iter_num += 1\n",
    "        \n",
    "    return w"
   ]
  },
  {
   "cell_type": "markdown",
   "metadata": {},
   "source": [
    "Для кросс-валидации разделим датасет на 5 частей (примерно по 8190 строк в каждой)"
   ]
  },
  {
   "cell_type": "code",
   "execution_count": 51,
   "metadata": {},
   "outputs": [],
   "source": [
    "data_split = np.array_split(X, 5)"
   ]
  },
  {
   "cell_type": "code",
   "execution_count": 52,
   "metadata": {},
   "outputs": [],
   "source": [
    "target_split = np.array_split(y, 5)"
   ]
  },
  {
   "cell_type": "markdown",
   "metadata": {},
   "source": [
    "ПЕРВЫЙ ЭТАП ВАЛИДАЦИИ"
   ]
  },
  {
   "cell_type": "code",
   "execution_count": 53,
   "metadata": {},
   "outputs": [],
   "source": [
    "data_train = np.concatenate((data_split[0], data_split[1], data_split[2], data_split[3]), axis=0)"
   ]
  },
  {
   "cell_type": "code",
   "execution_count": 54,
   "metadata": {},
   "outputs": [],
   "source": [
    "data_test = data_split[4]"
   ]
  },
  {
   "cell_type": "code",
   "execution_count": 55,
   "metadata": {},
   "outputs": [],
   "source": [
    "target_train = np.concatenate((target_split[0], target_split[1], target_split[2], target_split[3]))"
   ]
  },
  {
   "cell_type": "code",
   "execution_count": 56,
   "metadata": {},
   "outputs": [],
   "source": [
    "target_test = target_split[4]"
   ]
  },
  {
   "cell_type": "markdown",
   "metadata": {},
   "source": [
    "Обучим нашу модель"
   ]
  },
  {
   "cell_type": "code",
   "execution_count": 67,
   "metadata": {
    "scrolled": true
   },
   "outputs": [],
   "source": [
    "grad_desc_weights = gradient_descent(data_train, target_train, np.zeros(X.shape[1]), eta=1e-2, max_iter=1e4, min_weight_dist=1e-8)"
   ]
  },
  {
   "cell_type": "markdown",
   "metadata": {},
   "source": [
    "В результате обучения получим следующие показатели значимостей признаков:"
   ]
  },
  {
   "cell_type": "code",
   "execution_count": 68,
   "metadata": {},
   "outputs": [
    {
     "data": {
      "text/plain": [
       "array([ 3.69177415e-01, -3.34015750e-01, -1.98593504e+00, -1.26699911e-01,\n",
       "        1.89407485e-01,  4.03823716e+00,  1.01221948e+01,  1.07347384e+01,\n",
       "        1.39798350e+01, -7.75606460e-01,  2.41135985e-01,  3.88360020e+00,\n",
       "        3.08166381e+00, -1.38811514e+00,  1.46776651e-01,  1.64820342e+00,\n",
       "        3.89639570e+00,  1.16063745e+00, -5.43385716e+00, -1.11517618e+00,\n",
       "       -5.14827257e+00, -1.18287083e+01, -1.11240062e+01, -9.08353549e+00,\n",
       "       -1.06249802e+00, -3.71133357e-01,  1.26926501e+00, -1.36778021e+00,\n",
       "       -7.90500240e-01,  7.32138550e+00,  1.14239188e+01,  3.68706084e+00,\n",
       "       -1.03476036e+01,  6.57080787e+00, -4.04712209e+00,  1.88845369e-02,\n",
       "        2.17831712e+00,  7.90726350e-01, -4.51864833e-01, -1.67912888e-01,\n",
       "       -2.06937589e-01,  3.45978040e-01,  2.57459920e-01,  3.85821609e-01,\n",
       "       -2.09360737e-01, -3.95100099e-01,  3.74026321e-01,  7.35637800e-02,\n",
       "        3.79989108e-01, -9.30809721e-02,  4.95550633e-04, -3.30746045e-01,\n",
       "        7.31695137e+00])"
      ]
     },
     "execution_count": 68,
     "metadata": {},
     "output_type": "execute_result"
    }
   ],
   "source": [
    "grad_desc_weights"
   ]
  },
  {
   "cell_type": "markdown",
   "metadata": {},
   "source": [
    "Измерим метрики на тренировочных данных"
   ]
  },
  {
   "cell_type": "code",
   "execution_count": 69,
   "metadata": {},
   "outputs": [
    {
     "name": "stdout",
     "output_type": "stream",
     "text": [
      "RMSE_train_1 = 26.156132103818873\n"
     ]
    }
   ],
   "source": [
    "RMSE_train_1 = rmserror(target_train, np.dot(data_train, grad_desc_weights))\n",
    "print(f'RMSE_train_1 = {RMSE_train_1}')"
   ]
  },
  {
   "cell_type": "code",
   "execution_count": 70,
   "metadata": {},
   "outputs": [
    {
     "name": "stdout",
     "output_type": "stream",
     "text": [
      "R2_train_1 = 0.3198876360973577\n"
     ]
    }
   ],
   "source": [
    "R2_train_1 = determination(data_train, target_train, grad_desc_weights)\n",
    "print(f'R2_train_1 = {R2_train_1}')"
   ]
  },
  {
   "cell_type": "markdown",
   "metadata": {},
   "source": [
    "Измерим метрики на тестовых данных"
   ]
  },
  {
   "cell_type": "code",
   "execution_count": 71,
   "metadata": {},
   "outputs": [
    {
     "name": "stdout",
     "output_type": "stream",
     "text": [
      "RMSE_test_1 = 12.977247849572219\n"
     ]
    }
   ],
   "source": [
    "RMSE_test_1 = rmserror(target_test, np.dot(data_test, grad_desc_weights))\n",
    "print(f'RMSE_test_1 = {RMSE_test_1}')"
   ]
  },
  {
   "cell_type": "code",
   "execution_count": 72,
   "metadata": {},
   "outputs": [
    {
     "name": "stdout",
     "output_type": "stream",
     "text": [
      "R2_test_1 = 0.33680045132784076\n"
     ]
    }
   ],
   "source": [
    "R2_test_1 = determination(data_test, target_test, grad_desc_weights)\n",
    "print(f'R2_test_1 = {R2_test_1}')"
   ]
  },
  {
   "cell_type": "markdown",
   "metadata": {},
   "source": [
    "ВТОРОЙ ЭТАП ВАЛИДАЦИИ"
   ]
  },
  {
   "cell_type": "code",
   "execution_count": 23,
   "metadata": {},
   "outputs": [],
   "source": [
    "data_train = np.concatenate((data_split[0], data_split[1], data_split[2], data_split[4]), axis=0)"
   ]
  },
  {
   "cell_type": "code",
   "execution_count": 24,
   "metadata": {},
   "outputs": [],
   "source": [
    "data_test = data_split[3]"
   ]
  },
  {
   "cell_type": "code",
   "execution_count": 25,
   "metadata": {},
   "outputs": [
    {
     "ename": "NameError",
     "evalue": "name 'target_split' is not defined",
     "output_type": "error",
     "traceback": [
      "\u001b[0;31m---------------------------------------------------------------------------\u001b[0m",
      "\u001b[0;31mNameError\u001b[0m                                 Traceback (most recent call last)",
      "\u001b[0;32m<ipython-input-25-7561f1f98261>\u001b[0m in \u001b[0;36m<module>\u001b[0;34m()\u001b[0m\n\u001b[0;32m----> 1\u001b[0;31m \u001b[0mtarget_train\u001b[0m \u001b[0;34m=\u001b[0m \u001b[0mnp\u001b[0m\u001b[0;34m.\u001b[0m\u001b[0mconcatenate\u001b[0m\u001b[0;34m(\u001b[0m\u001b[0;34m(\u001b[0m\u001b[0mtarget_split\u001b[0m\u001b[0;34m[\u001b[0m\u001b[0;36m0\u001b[0m\u001b[0;34m]\u001b[0m\u001b[0;34m,\u001b[0m \u001b[0mtarget_split\u001b[0m\u001b[0;34m[\u001b[0m\u001b[0;36m1\u001b[0m\u001b[0;34m]\u001b[0m\u001b[0;34m,\u001b[0m \u001b[0mtarget_split\u001b[0m\u001b[0;34m[\u001b[0m\u001b[0;36m2\u001b[0m\u001b[0;34m]\u001b[0m\u001b[0;34m,\u001b[0m \u001b[0mtarget_split\u001b[0m\u001b[0;34m[\u001b[0m\u001b[0;36m4\u001b[0m\u001b[0;34m]\u001b[0m\u001b[0;34m)\u001b[0m\u001b[0;34m)\u001b[0m\u001b[0;34m\u001b[0m\u001b[0;34m\u001b[0m\u001b[0m\n\u001b[0m",
      "\u001b[0;31mNameError\u001b[0m: name 'target_split' is not defined"
     ]
    }
   ],
   "source": [
    "target_train = np.concatenate((target_split[0], target_split[1], target_split[2], target_split[4]))"
   ]
  },
  {
   "cell_type": "code",
   "execution_count": 87,
   "metadata": {},
   "outputs": [],
   "source": [
    "target_test = target_split[3]"
   ]
  },
  {
   "cell_type": "markdown",
   "metadata": {},
   "source": [
    "Обучим нашу модель"
   ]
  },
  {
   "cell_type": "code",
   "execution_count": 88,
   "metadata": {
    "scrolled": true
   },
   "outputs": [],
   "source": [
    "grad_desc_weights = gradient_descent(data_train, target_train, np.zeros(X.shape[1]), eta=1e-2, max_iter=1e4, min_weight_dist=1e-8)"
   ]
  },
  {
   "cell_type": "markdown",
   "metadata": {},
   "source": [
    "В результате обучения получим следующие показатели значимостей признаков:"
   ]
  },
  {
   "cell_type": "code",
   "execution_count": 95,
   "metadata": {},
   "outputs": [
    {
     "data": {
      "text/plain": [
       "array([-0.60016365, -0.74556223, -0.7165919 , -0.06675276, -0.07898385,\n",
       "        3.48865326,  4.35426583,  2.60593447,  7.1244766 ,  0.16296249,\n",
       "       -1.2526932 ,  2.46810898,  3.12197473,  0.17524111,  0.06041848,\n",
       "        1.41389325,  2.3129226 ,  1.92505562, -2.04204826, -0.3336633 ,\n",
       "       -4.80781188, -3.61588358, -3.40898007, -2.72419356, -0.46658115,\n",
       "        0.95595809,  1.09608546, -0.54361598, -4.28213383,  0.91182944,\n",
       "       11.33178364,  3.35135604, -5.20976205,  6.74867433, -4.07312567,\n",
       "        0.06144939, 10.44592912,  0.87158775, -0.25328292, -0.15013456,\n",
       "       -0.07298474,  0.28605879,  0.05842317,  0.22557496, -0.12435821,\n",
       "       -0.23929059,  0.27134224, -0.02804597,  0.40148879, -0.26355199,\n",
       "        0.08688543, -0.22125713,  7.5118126 ])"
      ]
     },
     "execution_count": 95,
     "metadata": {},
     "output_type": "execute_result"
    }
   ],
   "source": [
    "grad_desc_weights"
   ]
  },
  {
   "cell_type": "markdown",
   "metadata": {},
   "source": [
    "Измерим метрики на тренировочных данных"
   ]
  },
  {
   "cell_type": "code",
   "execution_count": 96,
   "metadata": {},
   "outputs": [
    {
     "name": "stdout",
     "output_type": "stream",
     "text": [
      "RMSE_train_2 = 27.070395691605395\n"
     ]
    }
   ],
   "source": [
    "RMSE_train_2 = rmserror(target_train, np.dot(data_train, grad_desc_weights))\n",
    "print(f'RMSE_train_2 = {RMSE_train_2}')"
   ]
  },
  {
   "cell_type": "code",
   "execution_count": 97,
   "metadata": {},
   "outputs": [
    {
     "name": "stdout",
     "output_type": "stream",
     "text": [
      "R2_train_2 = 0.3230380402050531\n"
     ]
    }
   ],
   "source": [
    "R2_train_2 = determination(data_train, target_train, grad_desc_weights)\n",
    "print(f'R2_train_2 = {R2_train_2}')"
   ]
  },
  {
   "cell_type": "markdown",
   "metadata": {},
   "source": [
    "Измерим метрики на тестовых данных"
   ]
  },
  {
   "cell_type": "code",
   "execution_count": 98,
   "metadata": {},
   "outputs": [
    {
     "name": "stdout",
     "output_type": "stream",
     "text": [
      "RMSE_test_2 = 13.59491711057371\n"
     ]
    }
   ],
   "source": [
    "RMSE_test_2 = rmserror(target_test, np.dot(data_test, grad_desc_weights))\n",
    "print(f'RMSE_test_2 = {RMSE_test_2}')"
   ]
  },
  {
   "cell_type": "code",
   "execution_count": 99,
   "metadata": {},
   "outputs": [
    {
     "name": "stdout",
     "output_type": "stream",
     "text": [
      "R2_test_2 = -0.04253018403960884\n"
     ]
    }
   ],
   "source": [
    "R2_test_2 = determination(data_test, target_test, grad_desc_weights)\n",
    "print(f'R2_test_2 = {R2_test_2}')"
   ]
  },
  {
   "cell_type": "markdown",
   "metadata": {},
   "source": [
    "ТРЕТИЙ ЭТАП ВАЛИДАЦИИ"
   ]
  },
  {
   "cell_type": "code",
   "execution_count": 100,
   "metadata": {},
   "outputs": [],
   "source": [
    "data_train = np.concatenate((data_split[0], data_split[1], data_split[3], data_split[4]), axis=0)"
   ]
  },
  {
   "cell_type": "code",
   "execution_count": 101,
   "metadata": {},
   "outputs": [],
   "source": [
    "data_test = data_split[2]"
   ]
  },
  {
   "cell_type": "code",
   "execution_count": 102,
   "metadata": {},
   "outputs": [],
   "source": [
    "target_train = np.concatenate((target_split[0], target_split[1], target_split[3], target_split[4]))"
   ]
  },
  {
   "cell_type": "code",
   "execution_count": 103,
   "metadata": {},
   "outputs": [],
   "source": [
    "target_test = target_split[2]"
   ]
  },
  {
   "cell_type": "markdown",
   "metadata": {},
   "source": [
    "Обучим нашу модель"
   ]
  },
  {
   "cell_type": "code",
   "execution_count": 104,
   "metadata": {
    "scrolled": true
   },
   "outputs": [],
   "source": [
    "grad_desc_weights = gradient_descent(data_train, target_train, np.zeros(X.shape[1]), eta=1e-2, max_iter=1e4, min_weight_dist=1e-8)"
   ]
  },
  {
   "cell_type": "markdown",
   "metadata": {},
   "source": [
    "В результате обучения получим следующие показатели значимостей признаков:"
   ]
  },
  {
   "cell_type": "code",
   "execution_count": 105,
   "metadata": {},
   "outputs": [
    {
     "data": {
      "text/plain": [
       "array([ 1.98284894e-01, -3.98931162e-01, -1.89796288e+00, -8.98798460e-02,\n",
       "       -1.50767055e+00,  4.57105974e+00,  5.67630010e+00,  2.39505004e-01,\n",
       "        5.73647461e+00, -1.09685720e+00, -1.37533116e+00,  2.60202976e+00,\n",
       "        2.69462693e+00, -4.95011559e-01,  2.85868993e-01,  1.32507941e+00,\n",
       "        3.08932756e+00,  1.92346188e+00, -3.72009213e+00,  7.35763681e-01,\n",
       "       -5.10429991e+00, -1.49291187e+00, -4.23092249e+00, -3.91336927e+00,\n",
       "       -5.09491499e-01,  1.11317919e+00,  1.99216202e-03,  8.69889777e-02,\n",
       "       -7.78447520e-01,  3.90012221e+00,  1.14663714e+01,  3.64174231e+00,\n",
       "       -6.34181302e+00,  6.63975789e+00, -3.97524194e+00, -8.10515003e-02,\n",
       "        2.28058037e+00,  6.71668605e-01, -1.78537582e-01, -2.94720801e-01,\n",
       "       -1.03636924e-01,  2.64000309e-01,  2.62761880e-01,  1.68614659e-01,\n",
       "       -1.43228846e-01, -1.80016743e-01,  1.26603568e-01,  6.42644061e-02,\n",
       "        3.34771317e-01,  5.77778038e-02, -1.61378937e-01, -2.42668290e-01,\n",
       "        7.30226528e+00])"
      ]
     },
     "execution_count": 105,
     "metadata": {},
     "output_type": "execute_result"
    }
   ],
   "source": [
    "grad_desc_weights"
   ]
  },
  {
   "cell_type": "markdown",
   "metadata": {},
   "source": [
    "Измерим метрики на тренировочных данных"
   ]
  },
  {
   "cell_type": "code",
   "execution_count": 106,
   "metadata": {},
   "outputs": [
    {
     "name": "stdout",
     "output_type": "stream",
     "text": [
      "RMSE_train_3 = 25.74781906283887\n"
     ]
    }
   ],
   "source": [
    "RMSE_train_3 = rmserror(target_train, np.dot(data_train, grad_desc_weights))\n",
    "print(f'RMSE_train_3 = {RMSE_train_3}')"
   ]
  },
  {
   "cell_type": "code",
   "execution_count": 107,
   "metadata": {},
   "outputs": [
    {
     "name": "stdout",
     "output_type": "stream",
     "text": [
      "R2_train_3 = 0.325632347676694\n"
     ]
    }
   ],
   "source": [
    "R2_train_3 = determination(data_train, target_train, grad_desc_weights)\n",
    "print(f'R2_train_3 = {R2_train_3}')"
   ]
  },
  {
   "cell_type": "markdown",
   "metadata": {},
   "source": [
    "Измерим метрики на тестовых данных"
   ]
  },
  {
   "cell_type": "code",
   "execution_count": 109,
   "metadata": {},
   "outputs": [
    {
     "name": "stdout",
     "output_type": "stream",
     "text": [
      "RMSE_test_3 = 13.824839405131739\n"
     ]
    }
   ],
   "source": [
    "RMSE_test_3 = rmserror(target_test, np.dot(data_test, grad_desc_weights))\n",
    "print(f'RMSE_test_3 = {RMSE_test_3}')"
   ]
  },
  {
   "cell_type": "code",
   "execution_count": 110,
   "metadata": {},
   "outputs": [
    {
     "name": "stdout",
     "output_type": "stream",
     "text": [
      "R2_test_3 = 0.30948329552967824\n"
     ]
    }
   ],
   "source": [
    "R2_test_3 = determination(data_test, target_test, grad_desc_weights)\n",
    "print(f'R2_test_3 = {R2_test_3}')"
   ]
  },
  {
   "cell_type": "markdown",
   "metadata": {},
   "source": [
    "ЧЕТВЕРТЫЙ ЭТАП ВАЛИДАЦИИ"
   ]
  },
  {
   "cell_type": "code",
   "execution_count": 111,
   "metadata": {},
   "outputs": [],
   "source": [
    "data_train = np.concatenate((data_split[0], data_split[2], data_split[3], data_split[4]), axis=0)"
   ]
  },
  {
   "cell_type": "code",
   "execution_count": 112,
   "metadata": {},
   "outputs": [],
   "source": [
    "data_test = data_split[1]"
   ]
  },
  {
   "cell_type": "code",
   "execution_count": 113,
   "metadata": {},
   "outputs": [],
   "source": [
    "target_train = np.concatenate((target_split[0], target_split[2], target_split[3], target_split[4]))"
   ]
  },
  {
   "cell_type": "code",
   "execution_count": 114,
   "metadata": {},
   "outputs": [],
   "source": [
    "target_test = target_split[1]"
   ]
  },
  {
   "cell_type": "markdown",
   "metadata": {},
   "source": [
    "Обучим нашу модель"
   ]
  },
  {
   "cell_type": "code",
   "execution_count": 115,
   "metadata": {
    "scrolled": true
   },
   "outputs": [],
   "source": [
    "grad_desc_weights = gradient_descent(data_train, target_train, np.zeros(X.shape[1]), eta=1e-2, max_iter=1e4, min_weight_dist=1e-8)"
   ]
  },
  {
   "cell_type": "markdown",
   "metadata": {},
   "source": [
    "В результате обучения получим следующие показатели значимостей признаков:"
   ]
  },
  {
   "cell_type": "code",
   "execution_count": 116,
   "metadata": {},
   "outputs": [
    {
     "data": {
      "text/plain": [
       "array([ 0.45011635, -0.45019396, -2.62372471, -0.04023726,  1.49836373,\n",
       "        3.97532151,  1.83218962,  3.79976269,  6.29369332, -2.4877048 ,\n",
       "       -1.1774025 ,  3.14442735,  3.85542115, -1.42818932,  0.42942565,\n",
       "        1.32223564,  2.69198364,  2.83739234, -0.77789844, -1.84971335,\n",
       "       -5.11544081, -6.07209599, -3.50091456, -1.89629597, -0.25112387,\n",
       "        2.13621766,  1.84788866, -0.1660655 , -2.48596057,  2.32556392,\n",
       "       11.60894882,  3.31510538, -4.75719103,  7.00294211, -3.91044047,\n",
       "        0.08346123,  2.72572744,  0.79216999, -0.02874022, -0.22834939,\n",
       "       -0.17387491,  0.15964427,  0.11024756,  0.22992979, -0.07742284,\n",
       "       -0.14115986,  0.14494278, -0.12790578,  0.25846532, -0.02811772,\n",
       "        0.11169582, -0.21857327,  7.37351406])"
      ]
     },
     "execution_count": 116,
     "metadata": {},
     "output_type": "execute_result"
    }
   ],
   "source": [
    "grad_desc_weights"
   ]
  },
  {
   "cell_type": "markdown",
   "metadata": {},
   "source": [
    "Измерим метрики на тренировочных данных"
   ]
  },
  {
   "cell_type": "code",
   "execution_count": 117,
   "metadata": {},
   "outputs": [
    {
     "name": "stdout",
     "output_type": "stream",
     "text": [
      "RMSE_train_4 = 25.848428918005638\n"
     ]
    }
   ],
   "source": [
    "RMSE_train_4 = rmserror(target_train, np.dot(data_train, grad_desc_weights))\n",
    "print(f'RMSE_train_4 = {RMSE_train_4}')"
   ]
  },
  {
   "cell_type": "code",
   "execution_count": 118,
   "metadata": {},
   "outputs": [
    {
     "name": "stdout",
     "output_type": "stream",
     "text": [
      "R2_train_4 = 0.34225497736222876\n"
     ]
    }
   ],
   "source": [
    "R2_train_4 = determination(data_train, target_train, grad_desc_weights)\n",
    "print(f'R2_train_4 = {R2_train_4}')"
   ]
  },
  {
   "cell_type": "markdown",
   "metadata": {},
   "source": [
    "Измерим метрики на тестовых данных"
   ]
  },
  {
   "cell_type": "code",
   "execution_count": 119,
   "metadata": {},
   "outputs": [
    {
     "name": "stdout",
     "output_type": "stream",
     "text": [
      "RMSE_test_4 = 13.641823455841031\n"
     ]
    }
   ],
   "source": [
    "RMSE_test_4 = rmserror(target_test, np.dot(data_test, grad_desc_weights))\n",
    "print(f'RMSE_test_4 = {RMSE_test_4}')"
   ]
  },
  {
   "cell_type": "code",
   "execution_count": 120,
   "metadata": {},
   "outputs": [
    {
     "name": "stdout",
     "output_type": "stream",
     "text": [
      "R2_test_4 = 0.2374720933398936\n"
     ]
    }
   ],
   "source": [
    "R2_test_4 = determination(data_test, target_test, grad_desc_weights)\n",
    "print(f'R2_test_4 = {R2_test_4}')"
   ]
  },
  {
   "cell_type": "markdown",
   "metadata": {},
   "source": [
    "ПЯТЫЙ ЭТАП ВАЛИДАЦИИ"
   ]
  },
  {
   "cell_type": "code",
   "execution_count": 121,
   "metadata": {},
   "outputs": [],
   "source": [
    "data_train = np.concatenate((data_split[1], data_split[2], data_split[3], data_split[4]), axis=0)"
   ]
  },
  {
   "cell_type": "code",
   "execution_count": 122,
   "metadata": {},
   "outputs": [],
   "source": [
    "data_test = data_split[0]"
   ]
  },
  {
   "cell_type": "code",
   "execution_count": 123,
   "metadata": {},
   "outputs": [],
   "source": [
    "target_train = np.concatenate((target_split[1], target_split[2], target_split[3], target_split[4]))"
   ]
  },
  {
   "cell_type": "code",
   "execution_count": 124,
   "metadata": {},
   "outputs": [],
   "source": [
    "target_test = target_split[0]"
   ]
  },
  {
   "cell_type": "markdown",
   "metadata": {},
   "source": [
    "Обучим нашу модель"
   ]
  },
  {
   "cell_type": "code",
   "execution_count": 125,
   "metadata": {
    "scrolled": true
   },
   "outputs": [],
   "source": [
    "grad_desc_weights = gradient_descent(data_train, target_train, np.zeros(X.shape[1]), eta=1e-2, max_iter=1e4, min_weight_dist=1e-8)"
   ]
  },
  {
   "cell_type": "markdown",
   "metadata": {},
   "source": [
    "В результате обучения получим следующие показатели значимостей признаков:"
   ]
  },
  {
   "cell_type": "code",
   "execution_count": 126,
   "metadata": {},
   "outputs": [
    {
     "data": {
      "text/plain": [
       "array([ 0.28121591, -0.64034167, -1.64311501, -0.16498916,  2.40453208,\n",
       "        3.84726789,  2.78490156,  2.93450777,  6.95483373, -1.33672146,\n",
       "       -0.0317228 ,  2.49578553,  3.60484237, -1.0846608 , -0.01903157,\n",
       "        0.25658096,  2.41106066,  2.01191662, -0.20460996, -2.32737933,\n",
       "       -4.87758892, -4.64240306, -3.86733405, -2.55319929, -0.30166327,\n",
       "        0.56982154,  0.98041694, -1.03388377, -2.16213239,  1.66448779,\n",
       "       10.8884762 ,  3.29765874, -4.1828088 ,  6.42625349, -4.10740779,\n",
       "       -0.02264071,  2.05497716,  0.79094383, -0.08496526, -0.23317214,\n",
       "       -0.19396924,  0.17119486,  0.05816129,  0.34588669, -0.07625273,\n",
       "       -0.20068486,  0.05691908, -0.0310414 ,  0.33843125, -0.0196388 ,\n",
       "        0.03154827, -0.17913943,  7.30885352])"
      ]
     },
     "execution_count": 126,
     "metadata": {},
     "output_type": "execute_result"
    }
   ],
   "source": [
    "grad_desc_weights"
   ]
  },
  {
   "cell_type": "markdown",
   "metadata": {},
   "source": [
    "Измерим метрики на тренировочных данных"
   ]
  },
  {
   "cell_type": "code",
   "execution_count": 127,
   "metadata": {},
   "outputs": [
    {
     "name": "stdout",
     "output_type": "stream",
     "text": [
      "RMSE_train_5 = 26.361954006719706\n"
     ]
    }
   ],
   "source": [
    "RMSE_train_5 = rmserror(target_train, np.dot(data_train, grad_desc_weights))\n",
    "print(f'RMSE_train_5 = {RMSE_train_5}')"
   ]
  },
  {
   "cell_type": "code",
   "execution_count": 128,
   "metadata": {},
   "outputs": [
    {
     "name": "stdout",
     "output_type": "stream",
     "text": [
      "R2_train_5 = 0.3143820330698648\n"
     ]
    }
   ],
   "source": [
    "R2_train_5 = determination(data_train, target_train, grad_desc_weights)\n",
    "print(f'R2_train_5 = {R2_train_5}')"
   ]
  },
  {
   "cell_type": "markdown",
   "metadata": {},
   "source": [
    "Измерим метрики на тестовых данных"
   ]
  },
  {
   "cell_type": "code",
   "execution_count": 129,
   "metadata": {},
   "outputs": [
    {
     "name": "stdout",
     "output_type": "stream",
     "text": [
      "RMSE_test_5 = 12.616936861626561\n"
     ]
    }
   ],
   "source": [
    "RMSE_test_5 = rmserror(target_test, np.dot(data_test, grad_desc_weights))\n",
    "print(f'RMSE_test_5 = {RMSE_test_5}')"
   ]
  },
  {
   "cell_type": "code",
   "execution_count": 130,
   "metadata": {},
   "outputs": [
    {
     "name": "stdout",
     "output_type": "stream",
     "text": [
      "R2_test_5 = 0.35354367524133823\n"
     ]
    }
   ],
   "source": [
    "R2_test_5 = determination(data_test, target_test, grad_desc_weights)\n",
    "print(f'R2_test_5 = {R2_test_5}')"
   ]
  },
  {
   "cell_type": "markdown",
   "metadata": {},
   "source": [
    "Полученные данные по метрикам качества модели объединим в таблицу Results.xls.\n",
    "Проанализировав полученные результаты, можно сделать вывод: большая часть результатов соответствуют установленным нормам, что говорит об успешном решении поставленной задачи. Однако есть пара замечаний: \n",
    "1. Метрика R2_test_2 = - 0.04. Данный показатель определяет какую долю разнообразия ответов модель смогла предсказать. Обычно он находится в интервале (0, 1). Отрицательное значение говорит о том, что модель предсказывала значение целевого признака хуже, чем если бы просто постоянно предсказывала среднее значение target'a. Так как показатели метрик на прочих этапах валидации находятся в норме, можно предположить, что в данную выборку попал некий выброс или же произошла техническая ошибка.\n",
    "2. Показатели RMSE на тестовых данных значительно ниже, чем на тренировочных. С одной стороны это замечательно.Но с другой стороны это нелогично, так как модель на обучающей выборке дает ошибку больше, чем на \"незнакомых\" данных. Возможно это результат ошибки в вычислениях или же неправильной структуры кросс-валидации."
   ]
  },
  {
   "cell_type": "code",
   "execution_count": null,
   "metadata": {},
   "outputs": [],
   "source": []
  }
 ],
 "metadata": {
  "kernelspec": {
   "display_name": "Python 3",
   "language": "python",
   "name": "python3"
  },
  "language_info": {
   "codemirror_mode": {
    "name": "ipython",
    "version": 3
   },
   "file_extension": ".py",
   "mimetype": "text/x-python",
   "name": "python",
   "nbconvert_exporter": "python",
   "pygments_lexer": "ipython3",
   "version": "3.6.7"
  }
 },
 "nbformat": 4,
 "nbformat_minor": 2
}
