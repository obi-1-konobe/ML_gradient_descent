{
 "cells": [
  {
   "cell_type": "markdown",
   "metadata": {},
   "source": [
    "# Ниязов Алдияр М.19-04 \n",
    "Задание 1 Предсказание количества комментариев к посту в FaceBook"
   ]
  },
  {
   "cell_type": "markdown",
   "metadata": {},
   "source": [
    "Произведем выгрузку данных из датасета"
   ]
  },
  {
   "cell_type": "code",
   "execution_count": 1,
   "metadata": {},
   "outputs": [],
   "source": [
    "import pandas as pd\n",
    "import numpy as np\n",
    "data = pd.read_csv('Dataset/Training/Features_Variant_1.csv')"
   ]
  },
  {
   "cell_type": "markdown",
   "metadata": {},
   "source": [
    "Посмотрим на них"
   ]
  },
  {
   "cell_type": "code",
   "execution_count": 2,
   "metadata": {},
   "outputs": [
    {
     "data": {
      "text/html": [
       "<div>\n",
       "<style scoped>\n",
       "    .dataframe tbody tr th:only-of-type {\n",
       "        vertical-align: middle;\n",
       "    }\n",
       "\n",
       "    .dataframe tbody tr th {\n",
       "        vertical-align: top;\n",
       "    }\n",
       "\n",
       "    .dataframe thead th {\n",
       "        text-align: right;\n",
       "    }\n",
       "</style>\n",
       "<table border=\"1\" class=\"dataframe\">\n",
       "  <thead>\n",
       "    <tr style=\"text-align: right;\">\n",
       "      <th></th>\n",
       "      <th>634995</th>\n",
       "      <th>0</th>\n",
       "      <th>463</th>\n",
       "      <th>1</th>\n",
       "      <th>0.0</th>\n",
       "      <th>806.0</th>\n",
       "      <th>11.291044776119403</th>\n",
       "      <th>1.0</th>\n",
       "      <th>70.49513846124168</th>\n",
       "      <th>0.0.1</th>\n",
       "      <th>...</th>\n",
       "      <th>0.11</th>\n",
       "      <th>0.12</th>\n",
       "      <th>0.13</th>\n",
       "      <th>0.14</th>\n",
       "      <th>0.15</th>\n",
       "      <th>0.16</th>\n",
       "      <th>0.17</th>\n",
       "      <th>0.18</th>\n",
       "      <th>1.2</th>\n",
       "      <th>0.19</th>\n",
       "    </tr>\n",
       "  </thead>\n",
       "  <tbody>\n",
       "    <tr>\n",
       "      <td>0</td>\n",
       "      <td>634995</td>\n",
       "      <td>0</td>\n",
       "      <td>463</td>\n",
       "      <td>1</td>\n",
       "      <td>0.0</td>\n",
       "      <td>806.0</td>\n",
       "      <td>11.291045</td>\n",
       "      <td>1.0</td>\n",
       "      <td>70.495138</td>\n",
       "      <td>0.0</td>\n",
       "      <td>...</td>\n",
       "      <td>0</td>\n",
       "      <td>0</td>\n",
       "      <td>0</td>\n",
       "      <td>0</td>\n",
       "      <td>0</td>\n",
       "      <td>0</td>\n",
       "      <td>0</td>\n",
       "      <td>1</td>\n",
       "      <td>0</td>\n",
       "      <td>0</td>\n",
       "    </tr>\n",
       "    <tr>\n",
       "      <td>1</td>\n",
       "      <td>634995</td>\n",
       "      <td>0</td>\n",
       "      <td>463</td>\n",
       "      <td>1</td>\n",
       "      <td>0.0</td>\n",
       "      <td>806.0</td>\n",
       "      <td>11.291045</td>\n",
       "      <td>1.0</td>\n",
       "      <td>70.495138</td>\n",
       "      <td>0.0</td>\n",
       "      <td>...</td>\n",
       "      <td>1</td>\n",
       "      <td>0</td>\n",
       "      <td>0</td>\n",
       "      <td>0</td>\n",
       "      <td>0</td>\n",
       "      <td>0</td>\n",
       "      <td>0</td>\n",
       "      <td>0</td>\n",
       "      <td>1</td>\n",
       "      <td>0</td>\n",
       "    </tr>\n",
       "    <tr>\n",
       "      <td>2</td>\n",
       "      <td>634995</td>\n",
       "      <td>0</td>\n",
       "      <td>463</td>\n",
       "      <td>1</td>\n",
       "      <td>0.0</td>\n",
       "      <td>806.0</td>\n",
       "      <td>11.291045</td>\n",
       "      <td>1.0</td>\n",
       "      <td>70.495138</td>\n",
       "      <td>0.0</td>\n",
       "      <td>...</td>\n",
       "      <td>1</td>\n",
       "      <td>0</td>\n",
       "      <td>0</td>\n",
       "      <td>1</td>\n",
       "      <td>0</td>\n",
       "      <td>0</td>\n",
       "      <td>0</td>\n",
       "      <td>0</td>\n",
       "      <td>0</td>\n",
       "      <td>0</td>\n",
       "    </tr>\n",
       "    <tr>\n",
       "      <td>3</td>\n",
       "      <td>634995</td>\n",
       "      <td>0</td>\n",
       "      <td>463</td>\n",
       "      <td>1</td>\n",
       "      <td>0.0</td>\n",
       "      <td>806.0</td>\n",
       "      <td>11.291045</td>\n",
       "      <td>1.0</td>\n",
       "      <td>70.495138</td>\n",
       "      <td>0.0</td>\n",
       "      <td>...</td>\n",
       "      <td>0</td>\n",
       "      <td>0</td>\n",
       "      <td>0</td>\n",
       "      <td>0</td>\n",
       "      <td>0</td>\n",
       "      <td>1</td>\n",
       "      <td>0</td>\n",
       "      <td>0</td>\n",
       "      <td>0</td>\n",
       "      <td>0</td>\n",
       "    </tr>\n",
       "    <tr>\n",
       "      <td>4</td>\n",
       "      <td>634995</td>\n",
       "      <td>0</td>\n",
       "      <td>463</td>\n",
       "      <td>1</td>\n",
       "      <td>0.0</td>\n",
       "      <td>806.0</td>\n",
       "      <td>11.291045</td>\n",
       "      <td>1.0</td>\n",
       "      <td>70.495138</td>\n",
       "      <td>0.0</td>\n",
       "      <td>...</td>\n",
       "      <td>0</td>\n",
       "      <td>0</td>\n",
       "      <td>0</td>\n",
       "      <td>0</td>\n",
       "      <td>0</td>\n",
       "      <td>0</td>\n",
       "      <td>0</td>\n",
       "      <td>1</td>\n",
       "      <td>0</td>\n",
       "      <td>0</td>\n",
       "    </tr>\n",
       "    <tr>\n",
       "      <td>...</td>\n",
       "      <td>...</td>\n",
       "      <td>...</td>\n",
       "      <td>...</td>\n",
       "      <td>...</td>\n",
       "      <td>...</td>\n",
       "      <td>...</td>\n",
       "      <td>...</td>\n",
       "      <td>...</td>\n",
       "      <td>...</td>\n",
       "      <td>...</td>\n",
       "      <td>...</td>\n",
       "      <td>...</td>\n",
       "      <td>...</td>\n",
       "      <td>...</td>\n",
       "      <td>...</td>\n",
       "      <td>...</td>\n",
       "      <td>...</td>\n",
       "      <td>...</td>\n",
       "      <td>...</td>\n",
       "      <td>...</td>\n",
       "      <td>...</td>\n",
       "    </tr>\n",
       "    <tr>\n",
       "      <td>40943</td>\n",
       "      <td>7170111</td>\n",
       "      <td>70</td>\n",
       "      <td>497000</td>\n",
       "      <td>9</td>\n",
       "      <td>0.0</td>\n",
       "      <td>1881.0</td>\n",
       "      <td>497.200000</td>\n",
       "      <td>269.0</td>\n",
       "      <td>502.318385</td>\n",
       "      <td>0.0</td>\n",
       "      <td>...</td>\n",
       "      <td>0</td>\n",
       "      <td>0</td>\n",
       "      <td>0</td>\n",
       "      <td>0</td>\n",
       "      <td>0</td>\n",
       "      <td>0</td>\n",
       "      <td>0</td>\n",
       "      <td>1</td>\n",
       "      <td>0</td>\n",
       "      <td>1</td>\n",
       "    </tr>\n",
       "    <tr>\n",
       "      <td>40944</td>\n",
       "      <td>7170111</td>\n",
       "      <td>70</td>\n",
       "      <td>497000</td>\n",
       "      <td>9</td>\n",
       "      <td>0.0</td>\n",
       "      <td>1881.0</td>\n",
       "      <td>497.200000</td>\n",
       "      <td>269.0</td>\n",
       "      <td>502.318385</td>\n",
       "      <td>0.0</td>\n",
       "      <td>...</td>\n",
       "      <td>0</td>\n",
       "      <td>0</td>\n",
       "      <td>0</td>\n",
       "      <td>0</td>\n",
       "      <td>0</td>\n",
       "      <td>0</td>\n",
       "      <td>0</td>\n",
       "      <td>1</td>\n",
       "      <td>0</td>\n",
       "      <td>2</td>\n",
       "    </tr>\n",
       "    <tr>\n",
       "      <td>40945</td>\n",
       "      <td>7170111</td>\n",
       "      <td>70</td>\n",
       "      <td>497000</td>\n",
       "      <td>9</td>\n",
       "      <td>0.0</td>\n",
       "      <td>1881.0</td>\n",
       "      <td>497.200000</td>\n",
       "      <td>269.0</td>\n",
       "      <td>502.318385</td>\n",
       "      <td>0.0</td>\n",
       "      <td>...</td>\n",
       "      <td>0</td>\n",
       "      <td>0</td>\n",
       "      <td>0</td>\n",
       "      <td>0</td>\n",
       "      <td>0</td>\n",
       "      <td>0</td>\n",
       "      <td>1</td>\n",
       "      <td>0</td>\n",
       "      <td>0</td>\n",
       "      <td>72</td>\n",
       "    </tr>\n",
       "    <tr>\n",
       "      <td>40946</td>\n",
       "      <td>7170111</td>\n",
       "      <td>70</td>\n",
       "      <td>497000</td>\n",
       "      <td>9</td>\n",
       "      <td>0.0</td>\n",
       "      <td>1881.0</td>\n",
       "      <td>497.200000</td>\n",
       "      <td>269.0</td>\n",
       "      <td>502.318385</td>\n",
       "      <td>0.0</td>\n",
       "      <td>...</td>\n",
       "      <td>0</td>\n",
       "      <td>0</td>\n",
       "      <td>0</td>\n",
       "      <td>0</td>\n",
       "      <td>0</td>\n",
       "      <td>0</td>\n",
       "      <td>0</td>\n",
       "      <td>1</td>\n",
       "      <td>0</td>\n",
       "      <td>28</td>\n",
       "    </tr>\n",
       "    <tr>\n",
       "      <td>40947</td>\n",
       "      <td>7170111</td>\n",
       "      <td>70</td>\n",
       "      <td>497000</td>\n",
       "      <td>9</td>\n",
       "      <td>0.0</td>\n",
       "      <td>1881.0</td>\n",
       "      <td>497.200000</td>\n",
       "      <td>269.0</td>\n",
       "      <td>502.318385</td>\n",
       "      <td>0.0</td>\n",
       "      <td>...</td>\n",
       "      <td>0</td>\n",
       "      <td>0</td>\n",
       "      <td>0</td>\n",
       "      <td>0</td>\n",
       "      <td>0</td>\n",
       "      <td>0</td>\n",
       "      <td>0</td>\n",
       "      <td>1</td>\n",
       "      <td>0</td>\n",
       "      <td>11</td>\n",
       "    </tr>\n",
       "  </tbody>\n",
       "</table>\n",
       "<p>40948 rows × 54 columns</p>\n",
       "</div>"
      ],
      "text/plain": [
       "        634995   0     463  1  0.0   806.0  11.291044776119403    1.0  \\\n",
       "0       634995   0     463  1  0.0   806.0           11.291045    1.0   \n",
       "1       634995   0     463  1  0.0   806.0           11.291045    1.0   \n",
       "2       634995   0     463  1  0.0   806.0           11.291045    1.0   \n",
       "3       634995   0     463  1  0.0   806.0           11.291045    1.0   \n",
       "4       634995   0     463  1  0.0   806.0           11.291045    1.0   \n",
       "...        ...  ..     ... ..  ...     ...                 ...    ...   \n",
       "40943  7170111  70  497000  9  0.0  1881.0          497.200000  269.0   \n",
       "40944  7170111  70  497000  9  0.0  1881.0          497.200000  269.0   \n",
       "40945  7170111  70  497000  9  0.0  1881.0          497.200000  269.0   \n",
       "40946  7170111  70  497000  9  0.0  1881.0          497.200000  269.0   \n",
       "40947  7170111  70  497000  9  0.0  1881.0          497.200000  269.0   \n",
       "\n",
       "       70.49513846124168  0.0.1  ...  0.11  0.12  0.13  0.14  0.15  0.16  \\\n",
       "0              70.495138    0.0  ...     0     0     0     0     0     0   \n",
       "1              70.495138    0.0  ...     1     0     0     0     0     0   \n",
       "2              70.495138    0.0  ...     1     0     0     1     0     0   \n",
       "3              70.495138    0.0  ...     0     0     0     0     0     1   \n",
       "4              70.495138    0.0  ...     0     0     0     0     0     0   \n",
       "...                  ...    ...  ...   ...   ...   ...   ...   ...   ...   \n",
       "40943         502.318385    0.0  ...     0     0     0     0     0     0   \n",
       "40944         502.318385    0.0  ...     0     0     0     0     0     0   \n",
       "40945         502.318385    0.0  ...     0     0     0     0     0     0   \n",
       "40946         502.318385    0.0  ...     0     0     0     0     0     0   \n",
       "40947         502.318385    0.0  ...     0     0     0     0     0     0   \n",
       "\n",
       "       0.17  0.18  1.2  0.19  \n",
       "0         0     1    0     0  \n",
       "1         0     0    1     0  \n",
       "2         0     0    0     0  \n",
       "3         0     0    0     0  \n",
       "4         0     1    0     0  \n",
       "...     ...   ...  ...   ...  \n",
       "40943     0     1    0     1  \n",
       "40944     0     1    0     2  \n",
       "40945     1     0    0    72  \n",
       "40946     0     1    0    28  \n",
       "40947     0     1    0    11  \n",
       "\n",
       "[40948 rows x 54 columns]"
      ]
     },
     "execution_count": 2,
     "metadata": {},
     "output_type": "execute_result"
    }
   ],
   "source": [
    "data"
   ]
  },
  {
   "cell_type": "markdown",
   "metadata": {},
   "source": [
    "Так как данные в датасете отсортированы и это негативно скажется на обучении модели, то перемешаем их"
   ]
  },
  {
   "cell_type": "code",
   "execution_count": 3,
   "metadata": {
    "scrolled": true
   },
   "outputs": [
    {
     "data": {
      "text/html": [
       "<div>\n",
       "<style scoped>\n",
       "    .dataframe tbody tr th:only-of-type {\n",
       "        vertical-align: middle;\n",
       "    }\n",
       "\n",
       "    .dataframe tbody tr th {\n",
       "        vertical-align: top;\n",
       "    }\n",
       "\n",
       "    .dataframe thead th {\n",
       "        text-align: right;\n",
       "    }\n",
       "</style>\n",
       "<table border=\"1\" class=\"dataframe\">\n",
       "  <thead>\n",
       "    <tr style=\"text-align: right;\">\n",
       "      <th></th>\n",
       "      <th>634995</th>\n",
       "      <th>0</th>\n",
       "      <th>463</th>\n",
       "      <th>1</th>\n",
       "      <th>0.0</th>\n",
       "      <th>806.0</th>\n",
       "      <th>11.291044776119403</th>\n",
       "      <th>1.0</th>\n",
       "      <th>70.49513846124168</th>\n",
       "      <th>0.0.1</th>\n",
       "      <th>...</th>\n",
       "      <th>0.11</th>\n",
       "      <th>0.12</th>\n",
       "      <th>0.13</th>\n",
       "      <th>0.14</th>\n",
       "      <th>0.15</th>\n",
       "      <th>0.16</th>\n",
       "      <th>0.17</th>\n",
       "      <th>0.18</th>\n",
       "      <th>1.2</th>\n",
       "      <th>0.19</th>\n",
       "    </tr>\n",
       "  </thead>\n",
       "  <tbody>\n",
       "    <tr>\n",
       "      <td>30052</td>\n",
       "      <td>1959278</td>\n",
       "      <td>0</td>\n",
       "      <td>12641</td>\n",
       "      <td>18</td>\n",
       "      <td>0.0</td>\n",
       "      <td>513.0</td>\n",
       "      <td>22.871111</td>\n",
       "      <td>13.0</td>\n",
       "      <td>46.630141</td>\n",
       "      <td>0.0</td>\n",
       "      <td>...</td>\n",
       "      <td>0</td>\n",
       "      <td>0</td>\n",
       "      <td>1</td>\n",
       "      <td>0</td>\n",
       "      <td>0</td>\n",
       "      <td>0</td>\n",
       "      <td>0</td>\n",
       "      <td>0</td>\n",
       "      <td>0</td>\n",
       "      <td>0</td>\n",
       "    </tr>\n",
       "    <tr>\n",
       "      <td>34791</td>\n",
       "      <td>35508</td>\n",
       "      <td>0</td>\n",
       "      <td>795</td>\n",
       "      <td>38</td>\n",
       "      <td>0.0</td>\n",
       "      <td>8.0</td>\n",
       "      <td>1.666667</td>\n",
       "      <td>1.0</td>\n",
       "      <td>2.011662</td>\n",
       "      <td>0.0</td>\n",
       "      <td>...</td>\n",
       "      <td>1</td>\n",
       "      <td>0</td>\n",
       "      <td>1</td>\n",
       "      <td>0</td>\n",
       "      <td>0</td>\n",
       "      <td>0</td>\n",
       "      <td>0</td>\n",
       "      <td>0</td>\n",
       "      <td>0</td>\n",
       "      <td>0</td>\n",
       "    </tr>\n",
       "    <tr>\n",
       "      <td>10767</td>\n",
       "      <td>441554</td>\n",
       "      <td>0</td>\n",
       "      <td>60660</td>\n",
       "      <td>4</td>\n",
       "      <td>0.0</td>\n",
       "      <td>2328.0</td>\n",
       "      <td>71.828829</td>\n",
       "      <td>42.0</td>\n",
       "      <td>165.413643</td>\n",
       "      <td>0.0</td>\n",
       "      <td>...</td>\n",
       "      <td>0</td>\n",
       "      <td>0</td>\n",
       "      <td>0</td>\n",
       "      <td>0</td>\n",
       "      <td>0</td>\n",
       "      <td>1</td>\n",
       "      <td>0</td>\n",
       "      <td>0</td>\n",
       "      <td>0</td>\n",
       "      <td>0</td>\n",
       "    </tr>\n",
       "    <tr>\n",
       "      <td>21059</td>\n",
       "      <td>220749</td>\n",
       "      <td>0</td>\n",
       "      <td>12792</td>\n",
       "      <td>18</td>\n",
       "      <td>0.0</td>\n",
       "      <td>711.0</td>\n",
       "      <td>39.828571</td>\n",
       "      <td>22.0</td>\n",
       "      <td>67.145678</td>\n",
       "      <td>0.0</td>\n",
       "      <td>...</td>\n",
       "      <td>1</td>\n",
       "      <td>0</td>\n",
       "      <td>0</td>\n",
       "      <td>0</td>\n",
       "      <td>0</td>\n",
       "      <td>0</td>\n",
       "      <td>0</td>\n",
       "      <td>0</td>\n",
       "      <td>1</td>\n",
       "      <td>9</td>\n",
       "    </tr>\n",
       "    <tr>\n",
       "      <td>39642</td>\n",
       "      <td>1947129</td>\n",
       "      <td>7</td>\n",
       "      <td>242852</td>\n",
       "      <td>18</td>\n",
       "      <td>1.0</td>\n",
       "      <td>632.0</td>\n",
       "      <td>139.666667</td>\n",
       "      <td>109.0</td>\n",
       "      <td>114.033931</td>\n",
       "      <td>0.0</td>\n",
       "      <td>...</td>\n",
       "      <td>1</td>\n",
       "      <td>0</td>\n",
       "      <td>1</td>\n",
       "      <td>0</td>\n",
       "      <td>0</td>\n",
       "      <td>0</td>\n",
       "      <td>0</td>\n",
       "      <td>0</td>\n",
       "      <td>0</td>\n",
       "      <td>5</td>\n",
       "    </tr>\n",
       "  </tbody>\n",
       "</table>\n",
       "<p>5 rows × 54 columns</p>\n",
       "</div>"
      ],
      "text/plain": [
       "        634995  0     463   1  0.0   806.0  11.291044776119403    1.0  \\\n",
       "30052  1959278  0   12641  18  0.0   513.0           22.871111   13.0   \n",
       "34791    35508  0     795  38  0.0     8.0            1.666667    1.0   \n",
       "10767   441554  0   60660   4  0.0  2328.0           71.828829   42.0   \n",
       "21059   220749  0   12792  18  0.0   711.0           39.828571   22.0   \n",
       "39642  1947129  7  242852  18  1.0   632.0          139.666667  109.0   \n",
       "\n",
       "       70.49513846124168  0.0.1  ...  0.11  0.12  0.13  0.14  0.15  0.16  \\\n",
       "30052          46.630141    0.0  ...     0     0     1     0     0     0   \n",
       "34791           2.011662    0.0  ...     1     0     1     0     0     0   \n",
       "10767         165.413643    0.0  ...     0     0     0     0     0     1   \n",
       "21059          67.145678    0.0  ...     1     0     0     0     0     0   \n",
       "39642         114.033931    0.0  ...     1     0     1     0     0     0   \n",
       "\n",
       "       0.17  0.18  1.2  0.19  \n",
       "30052     0     0    0     0  \n",
       "34791     0     0    0     0  \n",
       "10767     0     0    0     0  \n",
       "21059     0     0    1     9  \n",
       "39642     0     0    0     5  \n",
       "\n",
       "[5 rows x 54 columns]"
      ]
     },
     "execution_count": 3,
     "metadata": {},
     "output_type": "execute_result"
    }
   ],
   "source": [
    "data = data.sample(frac=1)\n",
    "data.head()"
   ]
  },
  {
   "cell_type": "markdown",
   "metadata": {},
   "source": [
    "Отделим значения целевого признака в отдельный массив y"
   ]
  },
  {
   "cell_type": "code",
   "execution_count": 4,
   "metadata": {},
   "outputs": [],
   "source": [
    "y = data['0.19'].values"
   ]
  },
  {
   "cell_type": "markdown",
   "metadata": {},
   "source": [
    "Оставшиеся признаки сгруппируем в матрицу Х"
   ]
  },
  {
   "cell_type": "code",
   "execution_count": 5,
   "metadata": {},
   "outputs": [],
   "source": [
    "data = data.values"
   ]
  },
  {
   "cell_type": "code",
   "execution_count": 6,
   "metadata": {},
   "outputs": [],
   "source": [
    "X = np.delete(data, 53, axis=1)"
   ]
  },
  {
   "cell_type": "markdown",
   "metadata": {},
   "source": [
    "Вычислим средние значения признаков (means) и стандартное отклонение (stds) по каждому столбцу матрицы Х. Сгруппируем значения в соответствующие массивы."
   ]
  },
  {
   "cell_type": "code",
   "execution_count": 7,
   "metadata": {},
   "outputs": [],
   "source": [
    "means, stds = [np.mean(X, axis=0), np.std(X, axis=0)]"
   ]
  },
  {
   "cell_type": "markdown",
   "metadata": {},
   "source": [
    "Если у какого-нибудь признака стандартное отклонение равно 0, значит этот признак является константой и не имеет никакого влияния на целевой признак. Определим такой признак в Х и удалим его из выборки:"
   ]
  },
  {
   "cell_type": "code",
   "execution_count": 8,
   "metadata": {},
   "outputs": [
    {
     "data": {
      "text/plain": [
       "(array([37]),)"
      ]
     },
     "execution_count": 8,
     "metadata": {},
     "output_type": "execute_result"
    }
   ],
   "source": [
    "np.where(stds==0)"
   ]
  },
  {
   "cell_type": "code",
   "execution_count": 9,
   "metadata": {},
   "outputs": [],
   "source": [
    "X = np.delete(X, 37, axis=1)"
   ]
  },
  {
   "cell_type": "markdown",
   "metadata": {},
   "source": [
    "Пересчитаем means и stds"
   ]
  },
  {
   "cell_type": "code",
   "execution_count": 10,
   "metadata": {},
   "outputs": [],
   "source": [
    "means, stds = [np.mean(X, axis=0), np.std(X, axis=0)]"
   ]
  },
  {
   "cell_type": "markdown",
   "metadata": {},
   "source": [
    "Произведем нормировку признаков. От каждого значения матрицы Х отнимем среднее значение по столбцу, а результат поделим на стандартное отклонение этого столбца."
   ]
  },
  {
   "cell_type": "code",
   "execution_count": 11,
   "metadata": {},
   "outputs": [],
   "source": [
    "def normalize_features(X):\n",
    "    for i in range(0, X.shape[0]):\n",
    "        for j in range(0, X.shape[1]):\n",
    "            X[i][j] = (X[i][j] - means[j])/stds[j]\n",
    "    return X"
   ]
  },
  {
   "cell_type": "code",
   "execution_count": 12,
   "metadata": {},
   "outputs": [],
   "source": [
    "X = normalize_features(X)"
   ]
  },
  {
   "cell_type": "markdown",
   "metadata": {},
   "source": [
    "Добавим к матрице X столбец из единиц, чтобы не обрабатывать отдельно коэффициент $w_0$ линейной регрессии"
   ]
  },
  {
   "cell_type": "code",
   "execution_count": 13,
   "metadata": {},
   "outputs": [],
   "source": [
    "X = np.hstack((X, np.ones((len(X), 1))))\n"
   ]
  },
  {
   "cell_type": "markdown",
   "metadata": {},
   "source": [
    "Опишем фунциb вычисления метрик качества. Данные показатели характеризует качество применяемой модели"
   ]
  },
  {
   "cell_type": "code",
   "execution_count": 14,
   "metadata": {},
   "outputs": [],
   "source": [
    "def mserror(y, y_pred):\n",
    "    return 1/len(y)*sum((y - y_pred) ** 2)"
   ]
  },
  {
   "cell_type": "code",
   "execution_count": 15,
   "metadata": {},
   "outputs": [],
   "source": [
    "def rmserror(y, y_pred):\n",
    "    return np.sqrt(mserror(y, y_pred))"
   ]
  },
  {
   "cell_type": "code",
   "execution_count": 16,
   "metadata": {},
   "outputs": [],
   "source": [
    "def determination(X, y, w):\n",
    "    return 1 - (sum((y - np.dot(X, w))**2) / sum((y - np.mean(y, axis=0))**2))"
   ]
  },
  {
   "cell_type": "markdown",
   "metadata": {},
   "source": [
    "Опишем функцию прогноза для линейной модели, принимающую матрицу Х и вектор весов признаков w, возвращающую вектор прогнозов"
   ]
  },
  {
   "cell_type": "code",
   "execution_count": 17,
   "metadata": {},
   "outputs": [],
   "source": [
    "def linear_prediction(X, w):\n",
    "    return np.dot(X, w)\n"
   ]
  },
  {
   "cell_type": "markdown",
   "metadata": {},
   "source": [
    "Градиент функционала ошибки вычисляется по формуле:"
   ]
  },
  {
   "cell_type": "code",
   "execution_count": 21,
   "metadata": {},
   "outputs": [],
   "source": [
    "def gradient_step(X, y, w):\n",
    "    return  np.dot(2/len(y) * X.T, np.add(linear_prediction(X, w), - y))\n",
    "    "
   ]
  },
  {
   "cell_type": "markdown",
   "metadata": {},
   "source": [
    "Градиентный спуск будет производиться в цикле по формуле:\n",
    "    $$\\Large w^t = w^{t-1} - lr*gradient step $$ \n",
    "    lr - коэффициент шага (learning rate)"
   ]
  },
  {
   "cell_type": "code",
   "execution_count": 22,
   "metadata": {},
   "outputs": [],
   "source": [
    "def gradient_descent(X, y, w_init, lr, epoch_num):\n",
    "    weight_dist = np.inf\n",
    "    w = w_init\n",
    "    iter_num = 0\n",
    "    # Склеим матрицу признаков со столбцом из значений целевого признака\n",
    "    data = np.concatenate((X, y.reshape(len(y), 1)), axis=1)\n",
    "    # Основной цикл\n",
    "    for i in range(epoch_num):\n",
    "        # Перемешаем данные\n",
    "        np.random.shuffle(data)\n",
    "        # Разделим таблицу признаков и целевой признак\n",
    "        X = np.delete(data, 53, axis=1)\n",
    "        y = np.delete(data, range(53), axis=1).reshape(1, len(y))[0]\n",
    "        batch_idx = 0\n",
    "        # Пройдемся по датасету batch-ами\n",
    "        for batch in np.array_split(X, 32):\n",
    "            y_batch = np.array_split(y, 32)[batch_idx]\n",
    "            batch_idx += 1\n",
    "            # вычисляем градиент\n",
    "            grad = gradient_step(batch, y_batch, w)\n",
    "            # обновляем параметры\n",
    "            w = w - lr * grad\n",
    "        \n",
    "    return w"
   ]
  },
  {
   "cell_type": "markdown",
   "metadata": {},
   "source": [
    "Для кросс-валидации разделим датасет на 5 частей (примерно по 8190 строк в каждой)"
   ]
  },
  {
   "cell_type": "code",
   "execution_count": 23,
   "metadata": {},
   "outputs": [],
   "source": [
    "data_split = np.array_split(X, 5)"
   ]
  },
  {
   "cell_type": "code",
   "execution_count": 24,
   "metadata": {},
   "outputs": [],
   "source": [
    "target_split = np.array_split(y, 5)"
   ]
  },
  {
   "cell_type": "markdown",
   "metadata": {},
   "source": [
    "ПЕРВЫЙ ЭТАП ВАЛИДАЦИИ"
   ]
  },
  {
   "cell_type": "code",
   "execution_count": 25,
   "metadata": {},
   "outputs": [],
   "source": [
    "data_train = np.concatenate((data_split[0], data_split[1], data_split[2], data_split[3]), axis=0)"
   ]
  },
  {
   "cell_type": "code",
   "execution_count": 26,
   "metadata": {},
   "outputs": [],
   "source": [
    "data_test = data_split[4]"
   ]
  },
  {
   "cell_type": "code",
   "execution_count": 27,
   "metadata": {},
   "outputs": [],
   "source": [
    "target_train = np.concatenate((target_split[0], target_split[1], target_split[2], target_split[3]))"
   ]
  },
  {
   "cell_type": "code",
   "execution_count": 28,
   "metadata": {},
   "outputs": [],
   "source": [
    "target_test = target_split[4]"
   ]
  },
  {
   "cell_type": "markdown",
   "metadata": {},
   "source": [
    "Обучим нашу модель"
   ]
  },
  {
   "cell_type": "code",
   "execution_count": null,
   "metadata": {
    "scrolled": true
   },
   "outputs": [],
   "source": [
    "grad_desc_weights = gradient_descent(data_train, target_train, np.zeros(X.shape[1]), lr=0.01, epoch_num=1000)"
   ]
  },
  {
   "cell_type": "markdown",
   "metadata": {},
   "source": [
    "В результате обучения получим следующие показатели значимостей признаков:"
   ]
  },
  {
   "cell_type": "code",
   "execution_count": 30,
   "metadata": {},
   "outputs": [
    {
     "data": {
      "text/plain": [
       "array([ 3.56325718e-01, -3.30928733e-01, -1.94067016e+00, -1.00282815e-01,\n",
       "       -3.62762810e-02,  6.10247930e+00,  1.03318682e+01,  1.00149912e+01,\n",
       "        1.16173058e+01, -1.68023992e+00, -3.71724501e+00,  2.53639364e+00,\n",
       "        4.11029835e+00,  2.81407558e+00,  5.82117571e-02,  1.99138680e+00,\n",
       "        3.11597466e+00,  2.28453974e+00, -2.06596058e+00, -1.67762116e-01,\n",
       "       -7.24611426e+00, -1.25177971e+01, -9.76703726e+00, -8.32131410e+00,\n",
       "       -4.95002685e-02,  3.80995249e+00, -1.83391914e-01, -2.39139836e-02,\n",
       "       -5.76019046e+00,  4.28038675e+00,  1.14967863e+01,  3.35693093e+00,\n",
       "       -6.72355920e+00,  6.87955595e+00, -3.91202408e+00,  1.28517106e-01,\n",
       "        2.48043387e+00,  7.77550255e-01, -1.16934611e-01, -1.94303466e-01,\n",
       "       -1.34112024e-01,  1.23164996e-01,  1.18612680e-01,  2.92087317e-01,\n",
       "       -1.03094818e-01, -2.54082782e-01,  1.08002916e-01,  1.18578267e-02,\n",
       "        3.77197904e-01, -7.79820964e-02,  9.31669982e-02, -2.58735346e-01,\n",
       "        7.25103725e+00])"
      ]
     },
     "execution_count": 30,
     "metadata": {},
     "output_type": "execute_result"
    }
   ],
   "source": [
    "grad_desc_weights"
   ]
  },
  {
   "cell_type": "markdown",
   "metadata": {},
   "source": [
    "Измерим метрики на тренировочных данных"
   ]
  },
  {
   "cell_type": "code",
   "execution_count": 31,
   "metadata": {},
   "outputs": [
    {
     "name": "stdout",
     "output_type": "stream",
     "text": [
      "RMSE_train_1 = 29.445642825915506\n"
     ]
    }
   ],
   "source": [
    "RMSE_train_1 = rmserror(target_train, np.dot(data_train, grad_desc_weights))\n",
    "print(f'RMSE_train_1 = {RMSE_train_1}')"
   ]
  },
  {
   "cell_type": "code",
   "execution_count": 32,
   "metadata": {},
   "outputs": [
    {
     "name": "stdout",
     "output_type": "stream",
     "text": [
      "R2_train_1 = 0.3266334987684347\n"
     ]
    }
   ],
   "source": [
    "R2_train_1 = determination(data_train, target_train, grad_desc_weights)\n",
    "print(f'R2_train_1 = {R2_train_1}')"
   ]
  },
  {
   "cell_type": "markdown",
   "metadata": {},
   "source": [
    "Измерим метрики на тестовых данных"
   ]
  },
  {
   "cell_type": "code",
   "execution_count": 33,
   "metadata": {},
   "outputs": [
    {
     "name": "stdout",
     "output_type": "stream",
     "text": [
      "RMSE_test_1 = 28.295558570326403\n"
     ]
    }
   ],
   "source": [
    "RMSE_test_1 = rmserror(target_test, np.dot(data_test, grad_desc_weights))\n",
    "print(f'RMSE_test_1 = {RMSE_test_1}')"
   ]
  },
  {
   "cell_type": "code",
   "execution_count": 34,
   "metadata": {},
   "outputs": [
    {
     "name": "stdout",
     "output_type": "stream",
     "text": [
      "R2_test_1 = 0.30296816354537737\n"
     ]
    }
   ],
   "source": [
    "R2_test_1 = determination(data_test, target_test, grad_desc_weights)\n",
    "print(f'R2_test_1 = {R2_test_1}')"
   ]
  },
  {
   "cell_type": "markdown",
   "metadata": {},
   "source": [
    "ВТОРОЙ ЭТАП ВАЛИДАЦИИ"
   ]
  },
  {
   "cell_type": "code",
   "execution_count": 35,
   "metadata": {},
   "outputs": [],
   "source": [
    "data_train = np.concatenate((data_split[0], data_split[1], data_split[2], data_split[4]), axis=0)"
   ]
  },
  {
   "cell_type": "code",
   "execution_count": 36,
   "metadata": {},
   "outputs": [],
   "source": [
    "data_test = data_split[3]"
   ]
  },
  {
   "cell_type": "code",
   "execution_count": 37,
   "metadata": {},
   "outputs": [],
   "source": [
    "target_train = np.concatenate((target_split[0], target_split[1], target_split[2], target_split[4]))"
   ]
  },
  {
   "cell_type": "code",
   "execution_count": 38,
   "metadata": {},
   "outputs": [],
   "source": [
    "target_test = target_split[3]"
   ]
  },
  {
   "cell_type": "markdown",
   "metadata": {},
   "source": [
    "Обучим нашу модель"
   ]
  },
  {
   "cell_type": "code",
   "execution_count": 39,
   "metadata": {
    "scrolled": true
   },
   "outputs": [],
   "source": [
    "grad_desc_weights = gradient_descent(data_train, target_train, np.zeros(X.shape[1]), lr=0.01, epoch_num=1000)"
   ]
  },
  {
   "cell_type": "markdown",
   "metadata": {},
   "source": [
    "В результате обучения получим следующие показатели значимостей признаков:"
   ]
  },
  {
   "cell_type": "code",
   "execution_count": 40,
   "metadata": {},
   "outputs": [
    {
     "data": {
      "text/plain": [
       "array([ 3.45709823e-01, -3.12254763e-01, -2.17892688e+00, -9.11682103e-02,\n",
       "        1.24574598e+00,  2.13681978e+00,  7.88196724e+00,  9.86655878e+00,\n",
       "        1.29795794e+01, -1.65770941e+00, -1.27485724e+00,  6.05644769e+00,\n",
       "        2.75359704e+00, -1.24476982e+00, -1.49351122e-01,  3.20249232e+00,\n",
       "        6.72061241e+00,  7.30445667e-01, -7.22595907e+00, -1.52628505e+00,\n",
       "       -3.61537906e+00, -1.17853155e+01, -1.00018883e+01, -6.06438897e+00,\n",
       "       -4.28304810e-01,  1.35257946e+00,  8.37706838e-01, -4.77696922e-01,\n",
       "       -1.84530218e+00,  8.06126112e+00,  1.18332772e+01,  3.61613833e+00,\n",
       "       -1.06805236e+01,  6.95946333e+00, -4.04252470e+00,  1.05010761e-02,\n",
       "        2.06769759e+00,  8.42426233e-01, -3.25404821e-01, -3.18683057e-01,\n",
       "       -1.83949621e-01,  4.53396438e-01,  1.41692297e-01,  3.34920965e-01,\n",
       "       -1.43360262e-01, -2.62443882e-01,  1.69862554e-01,  5.72747207e-02,\n",
       "        4.33110916e-01, -3.60235677e-02, -6.90948520e-02, -2.91862292e-01,\n",
       "        7.37879540e+00])"
      ]
     },
     "execution_count": 40,
     "metadata": {},
     "output_type": "execute_result"
    }
   ],
   "source": [
    "grad_desc_weights"
   ]
  },
  {
   "cell_type": "markdown",
   "metadata": {},
   "source": [
    "Измерим метрики на тренировочных данных"
   ]
  },
  {
   "cell_type": "code",
   "execution_count": 41,
   "metadata": {},
   "outputs": [
    {
     "name": "stdout",
     "output_type": "stream",
     "text": [
      "RMSE_train_2 = 30.24649183231903\n"
     ]
    }
   ],
   "source": [
    "RMSE_train_2 = rmserror(target_train, np.dot(data_train, grad_desc_weights))\n",
    "print(f'RMSE_train_2 = {RMSE_train_2}')"
   ]
  },
  {
   "cell_type": "code",
   "execution_count": 42,
   "metadata": {},
   "outputs": [
    {
     "name": "stdout",
     "output_type": "stream",
     "text": [
      "R2_train_2 = 0.3153786169399604\n"
     ]
    }
   ],
   "source": [
    "R2_train_2 = determination(data_train, target_train, grad_desc_weights)\n",
    "print(f'R2_train_2 = {R2_train_2}')"
   ]
  },
  {
   "cell_type": "markdown",
   "metadata": {},
   "source": [
    "Измерим метрики на тестовых данных"
   ]
  },
  {
   "cell_type": "code",
   "execution_count": 43,
   "metadata": {},
   "outputs": [
    {
     "name": "stdout",
     "output_type": "stream",
     "text": [
      "RMSE_test_2 = 25.08060620864133\n"
     ]
    }
   ],
   "source": [
    "RMSE_test_2 = rmserror(target_test, np.dot(data_test, grad_desc_weights))\n",
    "print(f'RMSE_test_2 = {RMSE_test_2}')"
   ]
  },
  {
   "cell_type": "code",
   "execution_count": 44,
   "metadata": {},
   "outputs": [
    {
     "name": "stdout",
     "output_type": "stream",
     "text": [
      "R2_test_2 = 0.34060953204249667\n"
     ]
    }
   ],
   "source": [
    "R2_test_2 = determination(data_test, target_test, grad_desc_weights)\n",
    "print(f'R2_test_2 = {R2_test_2}')"
   ]
  },
  {
   "cell_type": "markdown",
   "metadata": {},
   "source": [
    "ТРЕТИЙ ЭТАП ВАЛИДАЦИИ"
   ]
  },
  {
   "cell_type": "code",
   "execution_count": 45,
   "metadata": {},
   "outputs": [],
   "source": [
    "data_train = np.concatenate((data_split[0], data_split[1], data_split[3], data_split[4]), axis=0)"
   ]
  },
  {
   "cell_type": "code",
   "execution_count": 46,
   "metadata": {},
   "outputs": [],
   "source": [
    "data_test = data_split[2]"
   ]
  },
  {
   "cell_type": "code",
   "execution_count": 47,
   "metadata": {},
   "outputs": [],
   "source": [
    "target_train = np.concatenate((target_split[0], target_split[1], target_split[3], target_split[4]))"
   ]
  },
  {
   "cell_type": "code",
   "execution_count": 48,
   "metadata": {},
   "outputs": [],
   "source": [
    "target_test = target_split[2]"
   ]
  },
  {
   "cell_type": "markdown",
   "metadata": {},
   "source": [
    "Обучим нашу модель"
   ]
  },
  {
   "cell_type": "code",
   "execution_count": 49,
   "metadata": {
    "scrolled": true
   },
   "outputs": [],
   "source": [
    "grad_desc_weights = gradient_descent(data_train, target_train, np.zeros(X.shape[1]), lr=0.01, epoch_num=1000)"
   ]
  },
  {
   "cell_type": "markdown",
   "metadata": {},
   "source": [
    "В результате обучения получим следующие показатели значимостей признаков:"
   ]
  },
  {
   "cell_type": "code",
   "execution_count": 50,
   "metadata": {},
   "outputs": [
    {
     "data": {
      "text/plain": [
       "array([ 1.90761561e-01, -3.54452125e-01, -2.17060835e+00, -6.17292098e-02,\n",
       "       -6.09882157e+00,  4.00562687e+00,  1.01736932e+01,  9.04578822e+00,\n",
       "        1.20203225e+01, -1.48518019e+00, -2.29505452e+00,  3.66866424e+00,\n",
       "        3.79778726e+00,  8.24352533e-01,  1.25164511e+00,  2.29242827e+00,\n",
       "        4.36786992e+00,  2.76656898e+00, -7.59556707e+00,  4.78404130e+00,\n",
       "       -5.24206742e+00, -1.15503908e+01, -9.65017092e+00, -6.81576772e+00,\n",
       "       -1.85853086e+00,  1.16957244e+00, -1.87290361e-02,  9.78762900e-01,\n",
       "       -7.62171884e-01,  6.52606824e+00,  1.15705071e+01,  3.45163207e+00,\n",
       "       -9.01290694e+00,  6.86845700e+00, -3.97260032e+00, -2.08095017e-01,\n",
       "        2.08843360e+00,  8.39617791e-01, -2.28410598e-01, -7.70331063e-02,\n",
       "        4.15539420e-02,  3.35608236e-01,  6.71167219e-02,  1.14443825e-02,\n",
       "       -1.82796406e-01, -8.90879200e-02,  3.03403005e-01, -3.29891143e-02,\n",
       "        1.86658123e-01, -9.86607245e-02, -1.75882237e-01, -8.46388390e-02,\n",
       "        7.27708695e+00])"
      ]
     },
     "execution_count": 50,
     "metadata": {},
     "output_type": "execute_result"
    }
   ],
   "source": [
    "grad_desc_weights"
   ]
  },
  {
   "cell_type": "markdown",
   "metadata": {},
   "source": [
    "Измерим метрики на тренировочных данных"
   ]
  },
  {
   "cell_type": "code",
   "execution_count": 51,
   "metadata": {},
   "outputs": [
    {
     "name": "stdout",
     "output_type": "stream",
     "text": [
      "RMSE_train_3 = 28.395574273100955\n"
     ]
    }
   ],
   "source": [
    "RMSE_train_3 = rmserror(target_train, np.dot(data_train, grad_desc_weights))\n",
    "print(f'RMSE_train_3 = {RMSE_train_3}')"
   ]
  },
  {
   "cell_type": "code",
   "execution_count": 52,
   "metadata": {},
   "outputs": [
    {
     "name": "stdout",
     "output_type": "stream",
     "text": [
      "R2_train_3 = 0.3329449087228885\n"
     ]
    }
   ],
   "source": [
    "R2_train_3 = determination(data_train, target_train, grad_desc_weights)\n",
    "print(f'R2_train_3 = {R2_train_3}')"
   ]
  },
  {
   "cell_type": "markdown",
   "metadata": {},
   "source": [
    "Измерим метрики на тестовых данных"
   ]
  },
  {
   "cell_type": "code",
   "execution_count": 53,
   "metadata": {},
   "outputs": [
    {
     "name": "stdout",
     "output_type": "stream",
     "text": [
      "RMSE_test_3 = 32.61564158977754\n"
     ]
    }
   ],
   "source": [
    "RMSE_test_3 = rmserror(target_test, np.dot(data_test, grad_desc_weights))\n",
    "print(f'RMSE_test_3 = {RMSE_test_3}')"
   ]
  },
  {
   "cell_type": "code",
   "execution_count": 54,
   "metadata": {},
   "outputs": [
    {
     "name": "stdout",
     "output_type": "stream",
     "text": [
      "R2_test_3 = 0.27348315871923523\n"
     ]
    }
   ],
   "source": [
    "R2_test_3 = determination(data_test, target_test, grad_desc_weights)\n",
    "print(f'R2_test_3 = {R2_test_3}')"
   ]
  },
  {
   "cell_type": "markdown",
   "metadata": {},
   "source": [
    "ЧЕТВЕРТЫЙ ЭТАП ВАЛИДАЦИИ"
   ]
  },
  {
   "cell_type": "code",
   "execution_count": 55,
   "metadata": {},
   "outputs": [],
   "source": [
    "data_train = np.concatenate((data_split[0], data_split[2], data_split[3], data_split[4]), axis=0)"
   ]
  },
  {
   "cell_type": "code",
   "execution_count": 56,
   "metadata": {},
   "outputs": [],
   "source": [
    "data_test = data_split[1]"
   ]
  },
  {
   "cell_type": "code",
   "execution_count": 57,
   "metadata": {},
   "outputs": [],
   "source": [
    "target_train = np.concatenate((target_split[0], target_split[2], target_split[3], target_split[4]))"
   ]
  },
  {
   "cell_type": "code",
   "execution_count": 58,
   "metadata": {},
   "outputs": [],
   "source": [
    "target_test = target_split[1]"
   ]
  },
  {
   "cell_type": "markdown",
   "metadata": {},
   "source": [
    "Обучим нашу модель"
   ]
  },
  {
   "cell_type": "code",
   "execution_count": 59,
   "metadata": {
    "scrolled": true
   },
   "outputs": [],
   "source": [
    "grad_desc_weights = gradient_descent(data_train, target_train, np.zeros(X.shape[1]), lr=0.01, epoch_num=1000)"
   ]
  },
  {
   "cell_type": "markdown",
   "metadata": {},
   "source": [
    "В результате обучения получим следующие показатели значимостей признаков:"
   ]
  },
  {
   "cell_type": "code",
   "execution_count": 60,
   "metadata": {},
   "outputs": [
    {
     "data": {
      "text/plain": [
       "array([  0.24408689,  -0.40578218,  -2.21044493,  -0.11948572,\n",
       "         2.97365325,   4.05639295,   7.72823304,  12.62541283,\n",
       "        14.31817844,  -1.7770709 ,  -1.10514384,   4.8178881 ,\n",
       "         1.2680635 ,  -5.7530823 ,   0.34389905,   1.33956464,\n",
       "         4.43540666,   1.21329993,  -3.23847932,  -3.16529553,\n",
       "        -5.53670631, -14.37032588, -11.52431596,  -7.39965971,\n",
       "        -0.0481496 ,   2.12299953,   2.28060142,  -0.0356659 ,\n",
       "         2.41825178,   7.68420038,  11.2338858 ,   3.65418434,\n",
       "       -10.41768794,   6.44003358,  -4.17995324,   0.06390921,\n",
       "         1.97902281,   0.84183942,  -0.04662846,  -0.06218247,\n",
       "        -0.19759096,   0.24357005,   0.18897704,   0.13222299,\n",
       "        -0.27404737,  -0.11685311,   0.32359189,  -0.20288245,\n",
       "         0.2788789 ,  -0.04173548,   0.0543399 ,  -0.29094063,\n",
       "         7.35618886])"
      ]
     },
     "execution_count": 60,
     "metadata": {},
     "output_type": "execute_result"
    }
   ],
   "source": [
    "grad_desc_weights"
   ]
  },
  {
   "cell_type": "markdown",
   "metadata": {},
   "source": [
    "Измерим метрики на тренировочных данных"
   ]
  },
  {
   "cell_type": "code",
   "execution_count": 61,
   "metadata": {},
   "outputs": [
    {
     "name": "stdout",
     "output_type": "stream",
     "text": [
      "RMSE_train_4 = 29.66356818353404\n"
     ]
    }
   ],
   "source": [
    "RMSE_train_4 = rmserror(target_train, np.dot(data_train, grad_desc_weights))\n",
    "print(f'RMSE_train_4 = {RMSE_train_4}')"
   ]
  },
  {
   "cell_type": "code",
   "execution_count": 62,
   "metadata": {},
   "outputs": [
    {
     "name": "stdout",
     "output_type": "stream",
     "text": [
      "R2_train_4 = 0.30554728521732566\n"
     ]
    }
   ],
   "source": [
    "R2_train_4 = determination(data_train, target_train, grad_desc_weights)\n",
    "print(f'R2_train_4 = {R2_train_4}')"
   ]
  },
  {
   "cell_type": "markdown",
   "metadata": {},
   "source": [
    "Измерим метрики на тестовых данных"
   ]
  },
  {
   "cell_type": "code",
   "execution_count": 63,
   "metadata": {},
   "outputs": [
    {
     "name": "stdout",
     "output_type": "stream",
     "text": [
      "RMSE_test_4 = 27.39765851681774\n"
     ]
    }
   ],
   "source": [
    "RMSE_test_4 = rmserror(target_test, np.dot(data_test, grad_desc_weights))\n",
    "print(f'RMSE_test_4 = {RMSE_test_4}')"
   ]
  },
  {
   "cell_type": "code",
   "execution_count": 64,
   "metadata": {},
   "outputs": [
    {
     "name": "stdout",
     "output_type": "stream",
     "text": [
      "R2_test_4 = 0.3902035676686576\n"
     ]
    }
   ],
   "source": [
    "R2_test_4 = determination(data_test, target_test, grad_desc_weights)\n",
    "print(f'R2_test_4 = {R2_test_4}')"
   ]
  },
  {
   "cell_type": "markdown",
   "metadata": {},
   "source": [
    "ПЯТЫЙ ЭТАП ВАЛИДАЦИИ"
   ]
  },
  {
   "cell_type": "code",
   "execution_count": 65,
   "metadata": {},
   "outputs": [],
   "source": [
    "data_train = np.concatenate((data_split[1], data_split[2], data_split[3], data_split[4]), axis=0)"
   ]
  },
  {
   "cell_type": "code",
   "execution_count": 66,
   "metadata": {},
   "outputs": [],
   "source": [
    "data_test = data_split[0]"
   ]
  },
  {
   "cell_type": "code",
   "execution_count": 67,
   "metadata": {},
   "outputs": [],
   "source": [
    "target_train = np.concatenate((target_split[1], target_split[2], target_split[3], target_split[4]))"
   ]
  },
  {
   "cell_type": "code",
   "execution_count": 68,
   "metadata": {},
   "outputs": [],
   "source": [
    "target_test = target_split[0]"
   ]
  },
  {
   "cell_type": "markdown",
   "metadata": {},
   "source": [
    "Обучим нашу модель"
   ]
  },
  {
   "cell_type": "code",
   "execution_count": 75,
   "metadata": {
    "scrolled": true
   },
   "outputs": [],
   "source": [
    "grad_desc_weights = gradient_descent(data_train, target_train, np.zeros(X.shape[1]), lr=0.01, epoch_num=1000)"
   ]
  },
  {
   "cell_type": "markdown",
   "metadata": {},
   "source": [
    "В результате обучения получим следующие показатели значимостей признаков:"
   ]
  },
  {
   "cell_type": "code",
   "execution_count": 76,
   "metadata": {},
   "outputs": [
    {
     "data": {
      "text/plain": [
       "array([-4.73350085e-01, -6.67539056e-01, -9.71406992e-01, -2.48444562e-01,\n",
       "        2.07725706e+00,  6.31369462e+00,  7.09470529e+00,  5.43871294e+00,\n",
       "        9.77361884e+00, -1.43153970e+00, -2.37043585e+00,  6.24098129e+00,\n",
       "        2.07446628e+00, -1.53487385e+00, -1.13983024e-02,  1.54650421e+00,\n",
       "        7.00182838e+00,  1.49258715e-01, -5.29917711e+00, -1.61903943e+00,\n",
       "       -6.89898215e+00, -1.34101192e+01, -5.01295139e+00, -5.23984940e+00,\n",
       "       -4.05232060e-01,  2.39983063e+00,  7.27749315e-01, -1.81612248e+00,\n",
       "       -1.81307838e+00,  8.77102842e+00,  1.15561444e+01,  3.50324308e+00,\n",
       "       -1.24418900e+01,  6.81775638e+00, -3.99421840e+00,  1.17753122e-01,\n",
       "        9.28327586e+00,  7.93906274e-01, -3.87098380e-02, -3.17399053e-01,\n",
       "       -3.06983860e-01,  2.30496535e-01,  2.27304390e-01,  2.67055357e-01,\n",
       "       -7.17769837e-02, -2.47958039e-01,  1.73396046e-02,  3.73583593e-02,\n",
       "        3.93559025e-01,  6.30138997e-02,  3.70126724e-02, -3.06341243e-01,\n",
       "        7.40570048e+00])"
      ]
     },
     "execution_count": 76,
     "metadata": {},
     "output_type": "execute_result"
    }
   ],
   "source": [
    "grad_desc_weights"
   ]
  },
  {
   "cell_type": "markdown",
   "metadata": {},
   "source": [
    "Измерим метрики на тренировочных данных"
   ]
  },
  {
   "cell_type": "code",
   "execution_count": 77,
   "metadata": {},
   "outputs": [
    {
     "name": "stdout",
     "output_type": "stream",
     "text": [
      "RMSE_train_5 = 28.058402670340094\n"
     ]
    }
   ],
   "source": [
    "RMSE_train_5 = rmserror(target_train, np.dot(data_train, grad_desc_weights))\n",
    "print(f'RMSE_train_5 = {RMSE_train_5}')"
   ]
  },
  {
   "cell_type": "code",
   "execution_count": 78,
   "metadata": {},
   "outputs": [
    {
     "name": "stdout",
     "output_type": "stream",
     "text": [
      "R2_train_5 = 0.3436825647722621\n"
     ]
    }
   ],
   "source": [
    "R2_train_5 = determination(data_train, target_train, grad_desc_weights)\n",
    "print(f'R2_train_5 = {R2_train_5}')"
   ]
  },
  {
   "cell_type": "markdown",
   "metadata": {},
   "source": [
    "Измерим метрики на тестовых данных"
   ]
  },
  {
   "cell_type": "code",
   "execution_count": 79,
   "metadata": {},
   "outputs": [
    {
     "name": "stdout",
     "output_type": "stream",
     "text": [
      "RMSE_test_5 = 36.60356424093683\n"
     ]
    }
   ],
   "source": [
    "RMSE_test_5 = rmserror(target_test, np.dot(data_test, grad_desc_weights))\n",
    "print(f'RMSE_test_5 = {RMSE_test_5}')"
   ]
  },
  {
   "cell_type": "code",
   "execution_count": 80,
   "metadata": {},
   "outputs": [
    {
     "name": "stdout",
     "output_type": "stream",
     "text": [
      "R2_test_5 = 0.1074790770128834\n"
     ]
    }
   ],
   "source": [
    "R2_test_5 = determination(data_test, target_test, grad_desc_weights)\n",
    "print(f'R2_test_5 = {R2_test_5}')"
   ]
  },
  {
   "cell_type": "markdown",
   "metadata": {},
   "source": [
    "Полученные данные по метрикам качества модели объединим в таблицу Results_mini_batch.xls.\n",
    "Проанализировав полученные результаты, можно сделать вывод: большая часть результатов соответствуют установленным нормам, что говорит об успешном решении поставленной задачи. "
   ]
  },
  {
   "cell_type": "code",
   "execution_count": null,
   "metadata": {},
   "outputs": [],
   "source": []
  }
 ],
 "metadata": {
  "kernelspec": {
   "display_name": "Python 3",
   "language": "python",
   "name": "python3"
  },
  "language_info": {
   "codemirror_mode": {
    "name": "ipython",
    "version": 3
   },
   "file_extension": ".py",
   "mimetype": "text/x-python",
   "name": "python",
   "nbconvert_exporter": "python",
   "pygments_lexer": "ipython3",
   "version": "3.6.7"
  }
 },
 "nbformat": 4,
 "nbformat_minor": 2
}
